{
 "cells": [
  {
   "cell_type": "code",
   "execution_count": 44,
   "id": "aa2e6c84-c369-4e2f-9253-cffee47f9b36",
   "metadata": {},
   "outputs": [],
   "source": [
    "import pandas as pd\n",
    "from datetime import datetime\n",
    "import plotly.express as px"
   ]
  },
  {
   "cell_type": "code",
   "execution_count": 45,
   "id": "3892bf6e-f728-40a7-8ae3-df13c6ac0a01",
   "metadata": {},
   "outputs": [],
   "source": [
    "gps_nucleo = pd.read_csv(\"C:/dashboard_onibus/dados/dados_gps.csv\", sep=\";\")\n",
    "faixas = pd.read_csv(\"C:/dashboard_onibus/dados/faixas_horarias.csv\", sep=\";\")\n",
    "linhas = pd.read_csv(\"C:/dashboard_onibus/dados/linhas_e_nucleos.csv\", sep=\";\")\n",
    "programacao = pd.read_csv(\"C://dashboard_onibus/dados/programacao_partidas.csv\", sep=\";\")"
   ]
  },
  {
   "cell_type": "code",
   "execution_count": 46,
   "id": "e3656a63-9c0c-4ca5-96fe-8574136eb90b",
   "metadata": {},
   "outputs": [],
   "source": [
    "del gps_nucleo['Linha Informada a SMTR']\n",
    "del gps_nucleo['Linha Realizada pela SMTR']\n",
    "del gps_nucleo['Veículo Consolidado pela SMTR']\n",
    "del gps_nucleo ['Início da Viagem pela SMTR']\n",
    "del gps_nucleo ['Término da Viagem pela SMTR']\n",
    "del gps_nucleo ['Viagem Reconhecida']"
   ]
  },
  {
   "cell_type": "code",
   "execution_count": 47,
   "id": "c389d549-b5b0-40c9-bf78-257ca78ede7d",
   "metadata": {},
   "outputs": [],
   "source": [
    "gps_nucleo = pd.merge(gps_nucleo, linhas, on=\"Linha\", how=\"left\")"
   ]
  },
  {
   "cell_type": "code",
   "execution_count": 48,
   "id": "92e437ab-0703-4eb1-bfb7-e03bfef88bc7",
   "metadata": {},
   "outputs": [],
   "source": [
    "del gps_nucleo ['Tipo Linha']\n",
    "del gps_nucleo ['Nome_Linha']"
   ]
  },
  {
   "cell_type": "code",
   "execution_count": 49,
   "id": "4eab9d02-52f5-4bdf-994a-49011338f713",
   "metadata": {},
   "outputs": [],
   "source": [
    "gps_nucleo['Início da Viagem'] = pd.to_datetime(gps_nucleo['Início da Viagem'], dayfirst=True)\n",
    "gps_nucleo['Término da Viagem'] = pd.to_datetime(gps_nucleo['Término da Viagem'], format='%d/%m/%Y %H:%M:%S', errors='coerce')"
   ]
  },
  {
   "cell_type": "code",
   "execution_count": 50,
   "id": "1ea865f6-41cd-4ca5-9bf3-aa8584f4af0c",
   "metadata": {},
   "outputs": [],
   "source": [
    "gps_nucleo['hora_viagem'] = gps_nucleo['Início da Viagem'].dt.time"
   ]
  },
  {
   "cell_type": "code",
   "execution_count": 51,
   "id": "d883b58d-7369-4798-858e-00bbb4119abf",
   "metadata": {},
   "outputs": [],
   "source": [
    "gps_nucleo['_key'] = 1\n",
    "faixas['_key'] = 1"
   ]
  },
  {
   "cell_type": "code",
   "execution_count": 52,
   "id": "198c0d9c-c184-4861-b620-04b9e3b75c49",
   "metadata": {},
   "outputs": [],
   "source": [
    "merged = pd.merge(gps_nucleo, faixas, on='_key')"
   ]
  },
  {
   "cell_type": "code",
   "execution_count": 53,
   "id": "dfc8710a-21d2-4dc6-b3ac-694623857821",
   "metadata": {},
   "outputs": [],
   "source": [
    "merged['hora_inicio'] = pd.to_datetime(merged['hora_inicio'], format='%H:%M:%S').dt.time\n",
    "merged['hora_fim'] = pd.to_datetime(merged['hora_fim'], format='%H:%M:%S').dt.time"
   ]
  },
  {
   "cell_type": "code",
   "execution_count": 54,
   "id": "bd6c2401-8834-49cb-9ec5-631f14fcb42f",
   "metadata": {},
   "outputs": [],
   "source": [
    "resultado = merged[(merged['hora_viagem'] >= merged['hora_inicio']) & (merged['hora_viagem'] <= merged['hora_fim'])]"
   ]
  },
  {
   "cell_type": "code",
   "execution_count": 55,
   "id": "4c5cfcf8-826d-46fd-9368-797fbe854d3c",
   "metadata": {},
   "outputs": [],
   "source": [
    "resultado = resultado[['Início da Viagem', 'Faixa_Horaria']]"
   ]
  },
  {
   "cell_type": "code",
   "execution_count": 56,
   "id": "e25ea609-5a3d-4a56-a624-facb7e6012f3",
   "metadata": {},
   "outputs": [],
   "source": [
    "gps_nucleo = gps_nucleo.merge(resultado, on='Início da Viagem', how='left')"
   ]
  },
  {
   "cell_type": "code",
   "execution_count": 57,
   "id": "f60ee445-5136-4192-b7fc-9195acb352fa",
   "metadata": {},
   "outputs": [],
   "source": [
    "gps_nucleo = gps_nucleo.drop_duplicates()"
   ]
  },
  {
   "cell_type": "code",
   "execution_count": 58,
   "id": "bec53e68-e5d4-4735-8f3b-d767a9f1ca13",
   "metadata": {},
   "outputs": [],
   "source": [
    "partidas_executadas = gps_nucleo.groupby(['Linha', 'Faixa_Horaria']).size().reset_index(name='Total_Partidas')"
   ]
  },
  {
   "cell_type": "code",
   "execution_count": 59,
   "id": "c1239664-6f88-4f89-a130-06f4e6d217ff",
   "metadata": {},
   "outputs": [],
   "source": [
    "partidas_executadas = partidas_executadas.sort_values(by=['Linha', 'Faixa_Horaria'])"
   ]
  },
  {
   "cell_type": "code",
   "execution_count": 60,
   "id": "9eabe830-22d2-43d9-929b-1f2a9bf924ef",
   "metadata": {},
   "outputs": [],
   "source": [
    "programacao.columns = programacao.columns.str.strip()\n",
    "partidas_executadas.columns = partidas_executadas.columns.str.strip()"
   ]
  },
  {
   "cell_type": "code",
   "execution_count": 61,
   "id": "905049f1-f70e-466a-b89c-e6f45e88f679",
   "metadata": {},
   "outputs": [],
   "source": [
    "partidas_executadas = partidas_executadas.rename(columns={'Total_Partidas': 'Executado'})"
   ]
  },
  {
   "cell_type": "code",
   "execution_count": 62,
   "id": "a186c0ae-0c53-4d87-a3d6-208bdfe60877",
   "metadata": {},
   "outputs": [],
   "source": [
    "programacao = programacao.rename(columns={'Faixa': 'Faixa_Horaria', 'linha': 'Linha'})"
   ]
  },
  {
   "cell_type": "code",
   "execution_count": 63,
   "id": "506bc110-f94f-4143-bedc-18eaedbbc3d0",
   "metadata": {},
   "outputs": [],
   "source": [
    "comparativo = pd.merge(\n",
    "    partidas_executadas,\n",
    "    programacao.rename(columns={'Viagens Programadas': 'Programado'}),\n",
    "    how='left',\n",
    "    on=['Linha', 'Faixa_Horaria']\n",
    ")\n"
   ]
  },
  {
   "cell_type": "code",
   "execution_count": 64,
   "id": "2f5f0881-9f45-4433-954a-d965c4606038",
   "metadata": {},
   "outputs": [],
   "source": [
    "comparativo['Programado'] = comparativo['Programado'].fillna(0).astype(int)"
   ]
  },
  {
   "cell_type": "code",
   "execution_count": 65,
   "id": "7089bf73-5649-4e73-bd0c-41165f642e8c",
   "metadata": {},
   "outputs": [],
   "source": [
    "comparativo['% Execução'] = (comparativo['Executado'] / comparativo['Programado'].replace(0, 1)) * 100\n",
    "comparativo['% Execução'] = comparativo['% Execução'].round(1)"
   ]
  },
  {
   "cell_type": "code",
   "execution_count": 66,
   "id": "52bf2b63-6146-47da-a6d3-207742aad3bf",
   "metadata": {},
   "outputs": [],
   "source": [
    "comparativo.loc[comparativo['Programado'] == 0, '% Execução'] = 0"
   ]
  },
  {
   "cell_type": "code",
   "execution_count": 67,
   "id": "0ca39f9c-cee4-4aa8-9bf2-566016e1fe6e",
   "metadata": {},
   "outputs": [],
   "source": [
    "del comparativo ['Tipo Linha']"
   ]
  },
  {
   "cell_type": "code",
   "execution_count": 68,
   "id": "8b9b91ed-2eee-4c89-858c-1edf914dc1eb",
   "metadata": {},
   "outputs": [],
   "source": [
    "saida = \"comparativo_programado_executado_com_nucleo.csv\""
   ]
  },
  {
   "cell_type": "code",
   "execution_count": 69,
   "id": "750c4586-1a07-42a7-bd61-7d908dfd181e",
   "metadata": {},
   "outputs": [],
   "source": [
    "df_merged = pd.merge(\n",
    "    comparativo,\n",
    "    linhas[['Linha', 'Núcleo']],  # Mantém só a coluna necessária do núcleo\n",
    "    on='Linha',\n",
    "    how='left'  # Faz um left join para manter todas as linhas do comparativo\n",
    ")"
   ]
  },
  {
   "cell_type": "code",
   "execution_count": 70,
   "id": "692a0f01-d4d1-4adb-a4d9-841b979c01dc",
   "metadata": {},
   "outputs": [],
   "source": [
    "#df_merged['% Execução'] = df_merged['% Execução'] / 100"
   ]
  },
  {
   "cell_type": "code",
   "execution_count": 71,
   "id": "ea2877ac-dc16-49a8-8cdc-addc2a30753a",
   "metadata": {},
   "outputs": [],
   "source": [
    "#df_merged['% Execução'] = df_merged['% Execução'].apply(lambda x: f\"{x:.1%}\")"
   ]
  },
  {
   "cell_type": "code",
   "execution_count": 72,
   "id": "623059a6-cc55-40f9-87b6-e501d446c681",
   "metadata": {},
   "outputs": [
    {
     "data": {
      "text/html": [
       "<div>\n",
       "<style scoped>\n",
       "    .dataframe tbody tr th:only-of-type {\n",
       "        vertical-align: middle;\n",
       "    }\n",
       "\n",
       "    .dataframe tbody tr th {\n",
       "        vertical-align: top;\n",
       "    }\n",
       "\n",
       "    .dataframe thead th {\n",
       "        text-align: right;\n",
       "    }\n",
       "</style>\n",
       "<table border=\"1\" class=\"dataframe\">\n",
       "  <thead>\n",
       "    <tr style=\"text-align: right;\">\n",
       "      <th></th>\n",
       "      <th>Linha</th>\n",
       "      <th>Faixa_Horaria</th>\n",
       "      <th>Executado</th>\n",
       "      <th>Programado</th>\n",
       "      <th>Tipo Dia</th>\n",
       "      <th>Tipo de Programação</th>\n",
       "      <th>% Execução</th>\n",
       "      <th>Núcleo</th>\n",
       "    </tr>\n",
       "  </thead>\n",
       "  <tbody>\n",
       "    <tr>\n",
       "      <th>0</th>\n",
       "      <td>108</td>\n",
       "      <td>03-06</td>\n",
       "      <td>14</td>\n",
       "      <td>15</td>\n",
       "      <td>Dia Útil</td>\n",
       "      <td>100% SMTR</td>\n",
       "      <td>93.3</td>\n",
       "      <td>Gentileza</td>\n",
       "    </tr>\n",
       "    <tr>\n",
       "      <th>1</th>\n",
       "      <td>108</td>\n",
       "      <td>06-09</td>\n",
       "      <td>35</td>\n",
       "      <td>42</td>\n",
       "      <td>Dia Útil</td>\n",
       "      <td>100% SMTR</td>\n",
       "      <td>83.3</td>\n",
       "      <td>Gentileza</td>\n",
       "    </tr>\n",
       "    <tr>\n",
       "      <th>2</th>\n",
       "      <td>108</td>\n",
       "      <td>09-12</td>\n",
       "      <td>33</td>\n",
       "      <td>37</td>\n",
       "      <td>Dia Útil</td>\n",
       "      <td>100% SMTR</td>\n",
       "      <td>89.2</td>\n",
       "      <td>Gentileza</td>\n",
       "    </tr>\n",
       "    <tr>\n",
       "      <th>3</th>\n",
       "      <td>108</td>\n",
       "      <td>12-15</td>\n",
       "      <td>28</td>\n",
       "      <td>32</td>\n",
       "      <td>Dia Útil</td>\n",
       "      <td>100% SMTR</td>\n",
       "      <td>87.5</td>\n",
       "      <td>Gentileza</td>\n",
       "    </tr>\n",
       "    <tr>\n",
       "      <th>4</th>\n",
       "      <td>108</td>\n",
       "      <td>15-18</td>\n",
       "      <td>30</td>\n",
       "      <td>35</td>\n",
       "      <td>Dia Útil</td>\n",
       "      <td>100% SMTR</td>\n",
       "      <td>85.7</td>\n",
       "      <td>Gentileza</td>\n",
       "    </tr>\n",
       "    <tr>\n",
       "      <th>...</th>\n",
       "      <td>...</td>\n",
       "      <td>...</td>\n",
       "      <td>...</td>\n",
       "      <td>...</td>\n",
       "      <td>...</td>\n",
       "      <td>...</td>\n",
       "      <td>...</td>\n",
       "      <td>...</td>\n",
       "    </tr>\n",
       "    <tr>\n",
       "      <th>81</th>\n",
       "      <td>SV112</td>\n",
       "      <td>09-12</td>\n",
       "      <td>16</td>\n",
       "      <td>20</td>\n",
       "      <td>Dia Útil</td>\n",
       "      <td>100% SMTR</td>\n",
       "      <td>80.0</td>\n",
       "      <td>Gentileza</td>\n",
       "    </tr>\n",
       "    <tr>\n",
       "      <th>82</th>\n",
       "      <td>SV112</td>\n",
       "      <td>12-15</td>\n",
       "      <td>17</td>\n",
       "      <td>18</td>\n",
       "      <td>Dia Útil</td>\n",
       "      <td>100% SMTR</td>\n",
       "      <td>94.4</td>\n",
       "      <td>Gentileza</td>\n",
       "    </tr>\n",
       "    <tr>\n",
       "      <th>83</th>\n",
       "      <td>SV112</td>\n",
       "      <td>15-18</td>\n",
       "      <td>16</td>\n",
       "      <td>18</td>\n",
       "      <td>Dia Útil</td>\n",
       "      <td>100% SMTR</td>\n",
       "      <td>88.9</td>\n",
       "      <td>Gentileza</td>\n",
       "    </tr>\n",
       "    <tr>\n",
       "      <th>84</th>\n",
       "      <td>SV112</td>\n",
       "      <td>18-21</td>\n",
       "      <td>17</td>\n",
       "      <td>20</td>\n",
       "      <td>Dia Útil</td>\n",
       "      <td>100% SMTR</td>\n",
       "      <td>85.0</td>\n",
       "      <td>Gentileza</td>\n",
       "    </tr>\n",
       "    <tr>\n",
       "      <th>85</th>\n",
       "      <td>SV112</td>\n",
       "      <td>21-00</td>\n",
       "      <td>5</td>\n",
       "      <td>4</td>\n",
       "      <td>Dia Útil</td>\n",
       "      <td>100% SMTR</td>\n",
       "      <td>125.0</td>\n",
       "      <td>Gentileza</td>\n",
       "    </tr>\n",
       "  </tbody>\n",
       "</table>\n",
       "<p>86 rows × 8 columns</p>\n",
       "</div>"
      ],
      "text/plain": [
       "    Linha Faixa_Horaria  Executado  Programado  Tipo Dia Tipo de Programação  \\\n",
       "0     108         03-06         14          15  Dia Útil           100% SMTR   \n",
       "1     108         06-09         35          42  Dia Útil           100% SMTR   \n",
       "2     108         09-12         33          37  Dia Útil           100% SMTR   \n",
       "3     108         12-15         28          32  Dia Útil           100% SMTR   \n",
       "4     108         15-18         30          35  Dia Útil           100% SMTR   \n",
       "..    ...           ...        ...         ...       ...                 ...   \n",
       "81  SV112         09-12         16          20  Dia Útil           100% SMTR   \n",
       "82  SV112         12-15         17          18  Dia Útil           100% SMTR   \n",
       "83  SV112         15-18         16          18  Dia Útil           100% SMTR   \n",
       "84  SV112         18-21         17          20  Dia Útil           100% SMTR   \n",
       "85  SV112         21-00          5           4  Dia Útil           100% SMTR   \n",
       "\n",
       "    % Execução     Núcleo  \n",
       "0         93.3  Gentileza  \n",
       "1         83.3  Gentileza  \n",
       "2         89.2  Gentileza  \n",
       "3         87.5  Gentileza  \n",
       "4         85.7  Gentileza  \n",
       "..         ...        ...  \n",
       "81        80.0  Gentileza  \n",
       "82        94.4  Gentileza  \n",
       "83        88.9  Gentileza  \n",
       "84        85.0  Gentileza  \n",
       "85       125.0  Gentileza  \n",
       "\n",
       "[86 rows x 8 columns]"
      ]
     },
     "execution_count": 72,
     "metadata": {},
     "output_type": "execute_result"
    }
   ],
   "source": [
    "df_merged"
   ]
  },
  {
   "cell_type": "code",
   "execution_count": 73,
   "id": "48652489-d6dc-4ac7-a84a-011125f1c751",
   "metadata": {},
   "outputs": [
    {
     "name": "stdout",
     "output_type": "stream",
     "text": [
      "<class 'pandas.core.frame.DataFrame'>\n",
      "RangeIndex: 86 entries, 0 to 85\n",
      "Data columns (total 8 columns):\n",
      " #   Column               Non-Null Count  Dtype  \n",
      "---  ------               --------------  -----  \n",
      " 0   Linha                86 non-null     object \n",
      " 1   Faixa_Horaria        86 non-null     object \n",
      " 2   Executado            86 non-null     int64  \n",
      " 3   Programado           86 non-null     int64  \n",
      " 4   Tipo Dia             86 non-null     object \n",
      " 5   Tipo de Programação  86 non-null     object \n",
      " 6   % Execução           86 non-null     float64\n",
      " 7   Núcleo               86 non-null     object \n",
      "dtypes: float64(1), int64(2), object(5)\n",
      "memory usage: 5.5+ KB\n"
     ]
    }
   ],
   "source": [
    "df_merged.info()"
   ]
  },
  {
   "cell_type": "code",
   "execution_count": 74,
   "id": "5f712b35-0bdd-4154-8ee9-e61cab375ee0",
   "metadata": {},
   "outputs": [],
   "source": [
    "faixa_grafico = df_merged.loc[df_merged['Faixa_Horaria'] == '06-09']"
   ]
  },
  {
   "cell_type": "code",
   "execution_count": 75,
   "id": "abf5015e-5c88-44d8-93ed-5daf0e93d12a",
   "metadata": {},
   "outputs": [
    {
     "data": {
      "text/html": [
       "<div>\n",
       "<style scoped>\n",
       "    .dataframe tbody tr th:only-of-type {\n",
       "        vertical-align: middle;\n",
       "    }\n",
       "\n",
       "    .dataframe tbody tr th {\n",
       "        vertical-align: top;\n",
       "    }\n",
       "\n",
       "    .dataframe thead th {\n",
       "        text-align: right;\n",
       "    }\n",
       "</style>\n",
       "<table border=\"1\" class=\"dataframe\">\n",
       "  <thead>\n",
       "    <tr style=\"text-align: right;\">\n",
       "      <th></th>\n",
       "      <th>Linha</th>\n",
       "      <th>Faixa_Horaria</th>\n",
       "      <th>Executado</th>\n",
       "      <th>Programado</th>\n",
       "      <th>Tipo Dia</th>\n",
       "      <th>Tipo de Programação</th>\n",
       "      <th>% Execução</th>\n",
       "      <th>Núcleo</th>\n",
       "    </tr>\n",
       "  </thead>\n",
       "  <tbody>\n",
       "    <tr>\n",
       "      <th>1</th>\n",
       "      <td>108</td>\n",
       "      <td>06-09</td>\n",
       "      <td>35</td>\n",
       "      <td>42</td>\n",
       "      <td>Dia Útil</td>\n",
       "      <td>100% SMTR</td>\n",
       "      <td>83.3</td>\n",
       "      <td>Gentileza</td>\n",
       "    </tr>\n",
       "    <tr>\n",
       "      <th>8</th>\n",
       "      <td>110</td>\n",
       "      <td>06-09</td>\n",
       "      <td>43</td>\n",
       "      <td>52</td>\n",
       "      <td>Dia Útil</td>\n",
       "      <td>100% SMTR</td>\n",
       "      <td>82.7</td>\n",
       "      <td>Gentileza</td>\n",
       "    </tr>\n",
       "    <tr>\n",
       "      <th>15</th>\n",
       "      <td>112</td>\n",
       "      <td>06-09</td>\n",
       "      <td>34</td>\n",
       "      <td>35</td>\n",
       "      <td>Dia Útil</td>\n",
       "      <td>100% SMTR</td>\n",
       "      <td>97.1</td>\n",
       "      <td>Gentileza</td>\n",
       "    </tr>\n",
       "    <tr>\n",
       "      <th>22</th>\n",
       "      <td>163</td>\n",
       "      <td>06-09</td>\n",
       "      <td>18</td>\n",
       "      <td>20</td>\n",
       "      <td>Dia Útil</td>\n",
       "      <td>100% SMTR</td>\n",
       "      <td>90.0</td>\n",
       "      <td>Gentileza</td>\n",
       "    </tr>\n",
       "    <tr>\n",
       "      <th>29</th>\n",
       "      <td>222</td>\n",
       "      <td>06-09</td>\n",
       "      <td>4</td>\n",
       "      <td>5</td>\n",
       "      <td>Dia Útil</td>\n",
       "      <td>100% SMTR</td>\n",
       "      <td>80.0</td>\n",
       "      <td>Gentileza</td>\n",
       "    </tr>\n",
       "    <tr>\n",
       "      <th>36</th>\n",
       "      <td>309</td>\n",
       "      <td>06-09</td>\n",
       "      <td>63</td>\n",
       "      <td>72</td>\n",
       "      <td>Dia Útil</td>\n",
       "      <td>100% SMTR</td>\n",
       "      <td>87.5</td>\n",
       "      <td>Central</td>\n",
       "    </tr>\n",
       "    <tr>\n",
       "      <th>43</th>\n",
       "      <td>315</td>\n",
       "      <td>06-09</td>\n",
       "      <td>28</td>\n",
       "      <td>31</td>\n",
       "      <td>Dia Útil</td>\n",
       "      <td>100% SMTR</td>\n",
       "      <td>90.3</td>\n",
       "      <td>Central</td>\n",
       "    </tr>\n",
       "    <tr>\n",
       "      <th>51</th>\n",
       "      <td>460</td>\n",
       "      <td>06-09</td>\n",
       "      <td>73</td>\n",
       "      <td>94</td>\n",
       "      <td>Dia Útil</td>\n",
       "      <td>100% SMTR</td>\n",
       "      <td>77.7</td>\n",
       "      <td>São Cristóvão</td>\n",
       "    </tr>\n",
       "    <tr>\n",
       "      <th>58</th>\n",
       "      <td>463</td>\n",
       "      <td>06-09</td>\n",
       "      <td>50</td>\n",
       "      <td>60</td>\n",
       "      <td>Dia Útil</td>\n",
       "      <td>100% SMTR</td>\n",
       "      <td>83.3</td>\n",
       "      <td>São Cristóvão</td>\n",
       "    </tr>\n",
       "    <tr>\n",
       "      <th>65</th>\n",
       "      <td>538</td>\n",
       "      <td>06-09</td>\n",
       "      <td>11</td>\n",
       "      <td>13</td>\n",
       "      <td>Dia Útil</td>\n",
       "      <td>100% SMTR</td>\n",
       "      <td>84.6</td>\n",
       "      <td>Central</td>\n",
       "    </tr>\n",
       "    <tr>\n",
       "      <th>78</th>\n",
       "      <td>SP315</td>\n",
       "      <td>06-09</td>\n",
       "      <td>2</td>\n",
       "      <td>5</td>\n",
       "      <td>Dia Útil</td>\n",
       "      <td>100% SMTR</td>\n",
       "      <td>40.0</td>\n",
       "      <td>Central</td>\n",
       "    </tr>\n",
       "    <tr>\n",
       "      <th>80</th>\n",
       "      <td>SV112</td>\n",
       "      <td>06-09</td>\n",
       "      <td>27</td>\n",
       "      <td>29</td>\n",
       "      <td>Dia Útil</td>\n",
       "      <td>100% SMTR</td>\n",
       "      <td>93.1</td>\n",
       "      <td>Gentileza</td>\n",
       "    </tr>\n",
       "  </tbody>\n",
       "</table>\n",
       "</div>"
      ],
      "text/plain": [
       "    Linha Faixa_Horaria  Executado  Programado  Tipo Dia Tipo de Programação  \\\n",
       "1     108         06-09         35          42  Dia Útil           100% SMTR   \n",
       "8     110         06-09         43          52  Dia Útil           100% SMTR   \n",
       "15    112         06-09         34          35  Dia Útil           100% SMTR   \n",
       "22    163         06-09         18          20  Dia Útil           100% SMTR   \n",
       "29    222         06-09          4           5  Dia Útil           100% SMTR   \n",
       "36    309         06-09         63          72  Dia Útil           100% SMTR   \n",
       "43    315         06-09         28          31  Dia Útil           100% SMTR   \n",
       "51    460         06-09         73          94  Dia Útil           100% SMTR   \n",
       "58    463         06-09         50          60  Dia Útil           100% SMTR   \n",
       "65    538         06-09         11          13  Dia Útil           100% SMTR   \n",
       "78  SP315         06-09          2           5  Dia Útil           100% SMTR   \n",
       "80  SV112         06-09         27          29  Dia Útil           100% SMTR   \n",
       "\n",
       "    % Execução         Núcleo  \n",
       "1         83.3      Gentileza  \n",
       "8         82.7      Gentileza  \n",
       "15        97.1      Gentileza  \n",
       "22        90.0      Gentileza  \n",
       "29        80.0      Gentileza  \n",
       "36        87.5        Central  \n",
       "43        90.3        Central  \n",
       "51        77.7  São Cristóvão  \n",
       "58        83.3  São Cristóvão  \n",
       "65        84.6        Central  \n",
       "78        40.0        Central  \n",
       "80        93.1      Gentileza  "
      ]
     },
     "execution_count": 75,
     "metadata": {},
     "output_type": "execute_result"
    }
   ],
   "source": [
    "faixa_grafico"
   ]
  },
  {
   "cell_type": "code",
   "execution_count": 76,
   "id": "315da1ec-8ab9-44ba-9e1a-97a03540f367",
   "metadata": {},
   "outputs": [],
   "source": [
    "faixa_grafico = faixa_grafico.sort_values(by='% Execução', ascending=False)"
   ]
  },
  {
   "cell_type": "code",
   "execution_count": 77,
   "id": "798d5579-1916-4b13-ae17-573e2dae4459",
   "metadata": {},
   "outputs": [
    {
     "data": {
      "text/html": [
       "<div>\n",
       "<style scoped>\n",
       "    .dataframe tbody tr th:only-of-type {\n",
       "        vertical-align: middle;\n",
       "    }\n",
       "\n",
       "    .dataframe tbody tr th {\n",
       "        vertical-align: top;\n",
       "    }\n",
       "\n",
       "    .dataframe thead th {\n",
       "        text-align: right;\n",
       "    }\n",
       "</style>\n",
       "<table border=\"1\" class=\"dataframe\">\n",
       "  <thead>\n",
       "    <tr style=\"text-align: right;\">\n",
       "      <th></th>\n",
       "      <th>Linha</th>\n",
       "      <th>Faixa_Horaria</th>\n",
       "      <th>Executado</th>\n",
       "      <th>Programado</th>\n",
       "      <th>Tipo Dia</th>\n",
       "      <th>Tipo de Programação</th>\n",
       "      <th>% Execução</th>\n",
       "      <th>Núcleo</th>\n",
       "    </tr>\n",
       "  </thead>\n",
       "  <tbody>\n",
       "    <tr>\n",
       "      <th>15</th>\n",
       "      <td>112</td>\n",
       "      <td>06-09</td>\n",
       "      <td>34</td>\n",
       "      <td>35</td>\n",
       "      <td>Dia Útil</td>\n",
       "      <td>100% SMTR</td>\n",
       "      <td>97.1</td>\n",
       "      <td>Gentileza</td>\n",
       "    </tr>\n",
       "    <tr>\n",
       "      <th>80</th>\n",
       "      <td>SV112</td>\n",
       "      <td>06-09</td>\n",
       "      <td>27</td>\n",
       "      <td>29</td>\n",
       "      <td>Dia Útil</td>\n",
       "      <td>100% SMTR</td>\n",
       "      <td>93.1</td>\n",
       "      <td>Gentileza</td>\n",
       "    </tr>\n",
       "    <tr>\n",
       "      <th>43</th>\n",
       "      <td>315</td>\n",
       "      <td>06-09</td>\n",
       "      <td>28</td>\n",
       "      <td>31</td>\n",
       "      <td>Dia Útil</td>\n",
       "      <td>100% SMTR</td>\n",
       "      <td>90.3</td>\n",
       "      <td>Central</td>\n",
       "    </tr>\n",
       "    <tr>\n",
       "      <th>22</th>\n",
       "      <td>163</td>\n",
       "      <td>06-09</td>\n",
       "      <td>18</td>\n",
       "      <td>20</td>\n",
       "      <td>Dia Útil</td>\n",
       "      <td>100% SMTR</td>\n",
       "      <td>90.0</td>\n",
       "      <td>Gentileza</td>\n",
       "    </tr>\n",
       "    <tr>\n",
       "      <th>36</th>\n",
       "      <td>309</td>\n",
       "      <td>06-09</td>\n",
       "      <td>63</td>\n",
       "      <td>72</td>\n",
       "      <td>Dia Útil</td>\n",
       "      <td>100% SMTR</td>\n",
       "      <td>87.5</td>\n",
       "      <td>Central</td>\n",
       "    </tr>\n",
       "    <tr>\n",
       "      <th>65</th>\n",
       "      <td>538</td>\n",
       "      <td>06-09</td>\n",
       "      <td>11</td>\n",
       "      <td>13</td>\n",
       "      <td>Dia Útil</td>\n",
       "      <td>100% SMTR</td>\n",
       "      <td>84.6</td>\n",
       "      <td>Central</td>\n",
       "    </tr>\n",
       "    <tr>\n",
       "      <th>58</th>\n",
       "      <td>463</td>\n",
       "      <td>06-09</td>\n",
       "      <td>50</td>\n",
       "      <td>60</td>\n",
       "      <td>Dia Útil</td>\n",
       "      <td>100% SMTR</td>\n",
       "      <td>83.3</td>\n",
       "      <td>São Cristóvão</td>\n",
       "    </tr>\n",
       "    <tr>\n",
       "      <th>1</th>\n",
       "      <td>108</td>\n",
       "      <td>06-09</td>\n",
       "      <td>35</td>\n",
       "      <td>42</td>\n",
       "      <td>Dia Útil</td>\n",
       "      <td>100% SMTR</td>\n",
       "      <td>83.3</td>\n",
       "      <td>Gentileza</td>\n",
       "    </tr>\n",
       "    <tr>\n",
       "      <th>8</th>\n",
       "      <td>110</td>\n",
       "      <td>06-09</td>\n",
       "      <td>43</td>\n",
       "      <td>52</td>\n",
       "      <td>Dia Útil</td>\n",
       "      <td>100% SMTR</td>\n",
       "      <td>82.7</td>\n",
       "      <td>Gentileza</td>\n",
       "    </tr>\n",
       "    <tr>\n",
       "      <th>29</th>\n",
       "      <td>222</td>\n",
       "      <td>06-09</td>\n",
       "      <td>4</td>\n",
       "      <td>5</td>\n",
       "      <td>Dia Útil</td>\n",
       "      <td>100% SMTR</td>\n",
       "      <td>80.0</td>\n",
       "      <td>Gentileza</td>\n",
       "    </tr>\n",
       "    <tr>\n",
       "      <th>51</th>\n",
       "      <td>460</td>\n",
       "      <td>06-09</td>\n",
       "      <td>73</td>\n",
       "      <td>94</td>\n",
       "      <td>Dia Útil</td>\n",
       "      <td>100% SMTR</td>\n",
       "      <td>77.7</td>\n",
       "      <td>São Cristóvão</td>\n",
       "    </tr>\n",
       "    <tr>\n",
       "      <th>78</th>\n",
       "      <td>SP315</td>\n",
       "      <td>06-09</td>\n",
       "      <td>2</td>\n",
       "      <td>5</td>\n",
       "      <td>Dia Útil</td>\n",
       "      <td>100% SMTR</td>\n",
       "      <td>40.0</td>\n",
       "      <td>Central</td>\n",
       "    </tr>\n",
       "  </tbody>\n",
       "</table>\n",
       "</div>"
      ],
      "text/plain": [
       "    Linha Faixa_Horaria  Executado  Programado  Tipo Dia Tipo de Programação  \\\n",
       "15    112         06-09         34          35  Dia Útil           100% SMTR   \n",
       "80  SV112         06-09         27          29  Dia Útil           100% SMTR   \n",
       "43    315         06-09         28          31  Dia Útil           100% SMTR   \n",
       "22    163         06-09         18          20  Dia Útil           100% SMTR   \n",
       "36    309         06-09         63          72  Dia Útil           100% SMTR   \n",
       "65    538         06-09         11          13  Dia Útil           100% SMTR   \n",
       "58    463         06-09         50          60  Dia Útil           100% SMTR   \n",
       "1     108         06-09         35          42  Dia Útil           100% SMTR   \n",
       "8     110         06-09         43          52  Dia Útil           100% SMTR   \n",
       "29    222         06-09          4           5  Dia Útil           100% SMTR   \n",
       "51    460         06-09         73          94  Dia Útil           100% SMTR   \n",
       "78  SP315         06-09          2           5  Dia Útil           100% SMTR   \n",
       "\n",
       "    % Execução         Núcleo  \n",
       "15        97.1      Gentileza  \n",
       "80        93.1      Gentileza  \n",
       "43        90.3        Central  \n",
       "22        90.0      Gentileza  \n",
       "36        87.5        Central  \n",
       "65        84.6        Central  \n",
       "58        83.3  São Cristóvão  \n",
       "1         83.3      Gentileza  \n",
       "8         82.7      Gentileza  \n",
       "29        80.0      Gentileza  \n",
       "51        77.7  São Cristóvão  \n",
       "78        40.0        Central  "
      ]
     },
     "execution_count": 77,
     "metadata": {},
     "output_type": "execute_result"
    }
   ],
   "source": [
    "faixa_grafico"
   ]
  },
  {
   "cell_type": "code",
   "execution_count": 79,
   "id": "87460ae7-dffa-4420-acb2-6e0a737a0e7b",
   "metadata": {},
   "outputs": [
    {
     "data": {
      "application/vnd.plotly.v1+json": {
       "config": {
        "plotlyServerURL": "https://plot.ly"
       },
       "data": [
        {
         "hovertemplate": "color=green<br>Linha=%{x}<br>% Execução=%{y}<br>text_percent=%{text}<extra></extra>",
         "legendgroup": "green",
         "marker": {
          "color": "green",
          "pattern": {
           "shape": ""
          }
         },
         "name": "green",
         "orientation": "v",
         "showlegend": true,
         "text": [
          "97.1%",
          "93.1%",
          "90.3%",
          "90.0%",
          "87.5%",
          "84.6%",
          "83.3%",
          "83.3%",
          "82.7%",
          "80.0%"
         ],
         "textposition": "outside",
         "type": "bar",
         "x": [
          "112",
          "SV112",
          "315",
          "163",
          "309",
          "538",
          "463",
          "108",
          "110",
          "222"
         ],
         "xaxis": "x",
         "y": {
          "bdata": "ZmZmZmZGWEBmZmZmZkZXQDMzMzMzk1ZAAAAAAACAVkAAAAAAAOBVQGZmZmZmJlVAMzMzMzPTVEAzMzMzM9NUQM3MzMzMrFRAAAAAAAAAVEA=",
          "dtype": "f8"
         },
         "yaxis": "y"
        },
        {
         "hovertemplate": "color=red<br>Linha=%{x}<br>% Execução=%{y}<br>text_percent=%{text}<extra></extra>",
         "legendgroup": "red",
         "marker": {
          "color": "red",
          "pattern": {
           "shape": ""
          }
         },
         "name": "red",
         "orientation": "v",
         "showlegend": true,
         "text": [
          "77.7%",
          "40.0%"
         ],
         "textposition": "outside",
         "type": "bar",
         "x": [
          "460",
          "SP315"
         ],
         "xaxis": "x",
         "y": {
          "bdata": "zczMzMxsU0AAAAAAAABEQA==",
          "dtype": "f8"
         },
         "yaxis": "y"
        }
       ],
       "layout": {
        "barmode": "relative",
        "legend": {
         "title": {
          "text": "color"
         },
         "tracegroupgap": 0
        },
        "margin": {
         "t": 60
        },
        "paper_bgcolor": "white",
        "plot_bgcolor": "white",
        "template": {
         "data": {
          "bar": [
           {
            "error_x": {
             "color": "#2a3f5f"
            },
            "error_y": {
             "color": "#2a3f5f"
            },
            "marker": {
             "line": {
              "color": "#E5ECF6",
              "width": 0.5
             },
             "pattern": {
              "fillmode": "overlay",
              "size": 10,
              "solidity": 0.2
             }
            },
            "type": "bar"
           }
          ],
          "barpolar": [
           {
            "marker": {
             "line": {
              "color": "#E5ECF6",
              "width": 0.5
             },
             "pattern": {
              "fillmode": "overlay",
              "size": 10,
              "solidity": 0.2
             }
            },
            "type": "barpolar"
           }
          ],
          "carpet": [
           {
            "aaxis": {
             "endlinecolor": "#2a3f5f",
             "gridcolor": "white",
             "linecolor": "white",
             "minorgridcolor": "white",
             "startlinecolor": "#2a3f5f"
            },
            "baxis": {
             "endlinecolor": "#2a3f5f",
             "gridcolor": "white",
             "linecolor": "white",
             "minorgridcolor": "white",
             "startlinecolor": "#2a3f5f"
            },
            "type": "carpet"
           }
          ],
          "choropleth": [
           {
            "colorbar": {
             "outlinewidth": 0,
             "ticks": ""
            },
            "type": "choropleth"
           }
          ],
          "contour": [
           {
            "colorbar": {
             "outlinewidth": 0,
             "ticks": ""
            },
            "colorscale": [
             [
              0,
              "#0d0887"
             ],
             [
              0.1111111111111111,
              "#46039f"
             ],
             [
              0.2222222222222222,
              "#7201a8"
             ],
             [
              0.3333333333333333,
              "#9c179e"
             ],
             [
              0.4444444444444444,
              "#bd3786"
             ],
             [
              0.5555555555555556,
              "#d8576b"
             ],
             [
              0.6666666666666666,
              "#ed7953"
             ],
             [
              0.7777777777777778,
              "#fb9f3a"
             ],
             [
              0.8888888888888888,
              "#fdca26"
             ],
             [
              1,
              "#f0f921"
             ]
            ],
            "type": "contour"
           }
          ],
          "contourcarpet": [
           {
            "colorbar": {
             "outlinewidth": 0,
             "ticks": ""
            },
            "type": "contourcarpet"
           }
          ],
          "heatmap": [
           {
            "colorbar": {
             "outlinewidth": 0,
             "ticks": ""
            },
            "colorscale": [
             [
              0,
              "#0d0887"
             ],
             [
              0.1111111111111111,
              "#46039f"
             ],
             [
              0.2222222222222222,
              "#7201a8"
             ],
             [
              0.3333333333333333,
              "#9c179e"
             ],
             [
              0.4444444444444444,
              "#bd3786"
             ],
             [
              0.5555555555555556,
              "#d8576b"
             ],
             [
              0.6666666666666666,
              "#ed7953"
             ],
             [
              0.7777777777777778,
              "#fb9f3a"
             ],
             [
              0.8888888888888888,
              "#fdca26"
             ],
             [
              1,
              "#f0f921"
             ]
            ],
            "type": "heatmap"
           }
          ],
          "histogram": [
           {
            "marker": {
             "pattern": {
              "fillmode": "overlay",
              "size": 10,
              "solidity": 0.2
             }
            },
            "type": "histogram"
           }
          ],
          "histogram2d": [
           {
            "colorbar": {
             "outlinewidth": 0,
             "ticks": ""
            },
            "colorscale": [
             [
              0,
              "#0d0887"
             ],
             [
              0.1111111111111111,
              "#46039f"
             ],
             [
              0.2222222222222222,
              "#7201a8"
             ],
             [
              0.3333333333333333,
              "#9c179e"
             ],
             [
              0.4444444444444444,
              "#bd3786"
             ],
             [
              0.5555555555555556,
              "#d8576b"
             ],
             [
              0.6666666666666666,
              "#ed7953"
             ],
             [
              0.7777777777777778,
              "#fb9f3a"
             ],
             [
              0.8888888888888888,
              "#fdca26"
             ],
             [
              1,
              "#f0f921"
             ]
            ],
            "type": "histogram2d"
           }
          ],
          "histogram2dcontour": [
           {
            "colorbar": {
             "outlinewidth": 0,
             "ticks": ""
            },
            "colorscale": [
             [
              0,
              "#0d0887"
             ],
             [
              0.1111111111111111,
              "#46039f"
             ],
             [
              0.2222222222222222,
              "#7201a8"
             ],
             [
              0.3333333333333333,
              "#9c179e"
             ],
             [
              0.4444444444444444,
              "#bd3786"
             ],
             [
              0.5555555555555556,
              "#d8576b"
             ],
             [
              0.6666666666666666,
              "#ed7953"
             ],
             [
              0.7777777777777778,
              "#fb9f3a"
             ],
             [
              0.8888888888888888,
              "#fdca26"
             ],
             [
              1,
              "#f0f921"
             ]
            ],
            "type": "histogram2dcontour"
           }
          ],
          "mesh3d": [
           {
            "colorbar": {
             "outlinewidth": 0,
             "ticks": ""
            },
            "type": "mesh3d"
           }
          ],
          "parcoords": [
           {
            "line": {
             "colorbar": {
              "outlinewidth": 0,
              "ticks": ""
             }
            },
            "type": "parcoords"
           }
          ],
          "pie": [
           {
            "automargin": true,
            "type": "pie"
           }
          ],
          "scatter": [
           {
            "fillpattern": {
             "fillmode": "overlay",
             "size": 10,
             "solidity": 0.2
            },
            "type": "scatter"
           }
          ],
          "scatter3d": [
           {
            "line": {
             "colorbar": {
              "outlinewidth": 0,
              "ticks": ""
             }
            },
            "marker": {
             "colorbar": {
              "outlinewidth": 0,
              "ticks": ""
             }
            },
            "type": "scatter3d"
           }
          ],
          "scattercarpet": [
           {
            "marker": {
             "colorbar": {
              "outlinewidth": 0,
              "ticks": ""
             }
            },
            "type": "scattercarpet"
           }
          ],
          "scattergeo": [
           {
            "marker": {
             "colorbar": {
              "outlinewidth": 0,
              "ticks": ""
             }
            },
            "type": "scattergeo"
           }
          ],
          "scattergl": [
           {
            "marker": {
             "colorbar": {
              "outlinewidth": 0,
              "ticks": ""
             }
            },
            "type": "scattergl"
           }
          ],
          "scattermap": [
           {
            "marker": {
             "colorbar": {
              "outlinewidth": 0,
              "ticks": ""
             }
            },
            "type": "scattermap"
           }
          ],
          "scattermapbox": [
           {
            "marker": {
             "colorbar": {
              "outlinewidth": 0,
              "ticks": ""
             }
            },
            "type": "scattermapbox"
           }
          ],
          "scatterpolar": [
           {
            "marker": {
             "colorbar": {
              "outlinewidth": 0,
              "ticks": ""
             }
            },
            "type": "scatterpolar"
           }
          ],
          "scatterpolargl": [
           {
            "marker": {
             "colorbar": {
              "outlinewidth": 0,
              "ticks": ""
             }
            },
            "type": "scatterpolargl"
           }
          ],
          "scatterternary": [
           {
            "marker": {
             "colorbar": {
              "outlinewidth": 0,
              "ticks": ""
             }
            },
            "type": "scatterternary"
           }
          ],
          "surface": [
           {
            "colorbar": {
             "outlinewidth": 0,
             "ticks": ""
            },
            "colorscale": [
             [
              0,
              "#0d0887"
             ],
             [
              0.1111111111111111,
              "#46039f"
             ],
             [
              0.2222222222222222,
              "#7201a8"
             ],
             [
              0.3333333333333333,
              "#9c179e"
             ],
             [
              0.4444444444444444,
              "#bd3786"
             ],
             [
              0.5555555555555556,
              "#d8576b"
             ],
             [
              0.6666666666666666,
              "#ed7953"
             ],
             [
              0.7777777777777778,
              "#fb9f3a"
             ],
             [
              0.8888888888888888,
              "#fdca26"
             ],
             [
              1,
              "#f0f921"
             ]
            ],
            "type": "surface"
           }
          ],
          "table": [
           {
            "cells": {
             "fill": {
              "color": "#EBF0F8"
             },
             "line": {
              "color": "white"
             }
            },
            "header": {
             "fill": {
              "color": "#C8D4E3"
             },
             "line": {
              "color": "white"
             }
            },
            "type": "table"
           }
          ]
         },
         "layout": {
          "annotationdefaults": {
           "arrowcolor": "#2a3f5f",
           "arrowhead": 0,
           "arrowwidth": 1
          },
          "autotypenumbers": "strict",
          "coloraxis": {
           "colorbar": {
            "outlinewidth": 0,
            "ticks": ""
           }
          },
          "colorscale": {
           "diverging": [
            [
             0,
             "#8e0152"
            ],
            [
             0.1,
             "#c51b7d"
            ],
            [
             0.2,
             "#de77ae"
            ],
            [
             0.3,
             "#f1b6da"
            ],
            [
             0.4,
             "#fde0ef"
            ],
            [
             0.5,
             "#f7f7f7"
            ],
            [
             0.6,
             "#e6f5d0"
            ],
            [
             0.7,
             "#b8e186"
            ],
            [
             0.8,
             "#7fbc41"
            ],
            [
             0.9,
             "#4d9221"
            ],
            [
             1,
             "#276419"
            ]
           ],
           "sequential": [
            [
             0,
             "#0d0887"
            ],
            [
             0.1111111111111111,
             "#46039f"
            ],
            [
             0.2222222222222222,
             "#7201a8"
            ],
            [
             0.3333333333333333,
             "#9c179e"
            ],
            [
             0.4444444444444444,
             "#bd3786"
            ],
            [
             0.5555555555555556,
             "#d8576b"
            ],
            [
             0.6666666666666666,
             "#ed7953"
            ],
            [
             0.7777777777777778,
             "#fb9f3a"
            ],
            [
             0.8888888888888888,
             "#fdca26"
            ],
            [
             1,
             "#f0f921"
            ]
           ],
           "sequentialminus": [
            [
             0,
             "#0d0887"
            ],
            [
             0.1111111111111111,
             "#46039f"
            ],
            [
             0.2222222222222222,
             "#7201a8"
            ],
            [
             0.3333333333333333,
             "#9c179e"
            ],
            [
             0.4444444444444444,
             "#bd3786"
            ],
            [
             0.5555555555555556,
             "#d8576b"
            ],
            [
             0.6666666666666666,
             "#ed7953"
            ],
            [
             0.7777777777777778,
             "#fb9f3a"
            ],
            [
             0.8888888888888888,
             "#fdca26"
            ],
            [
             1,
             "#f0f921"
            ]
           ]
          },
          "colorway": [
           "#636efa",
           "#EF553B",
           "#00cc96",
           "#ab63fa",
           "#FFA15A",
           "#19d3f3",
           "#FF6692",
           "#B6E880",
           "#FF97FF",
           "#FECB52"
          ],
          "font": {
           "color": "#2a3f5f"
          },
          "geo": {
           "bgcolor": "white",
           "lakecolor": "white",
           "landcolor": "#E5ECF6",
           "showlakes": true,
           "showland": true,
           "subunitcolor": "white"
          },
          "hoverlabel": {
           "align": "left"
          },
          "hovermode": "closest",
          "mapbox": {
           "style": "light"
          },
          "paper_bgcolor": "white",
          "plot_bgcolor": "#E5ECF6",
          "polar": {
           "angularaxis": {
            "gridcolor": "white",
            "linecolor": "white",
            "ticks": ""
           },
           "bgcolor": "#E5ECF6",
           "radialaxis": {
            "gridcolor": "white",
            "linecolor": "white",
            "ticks": ""
           }
          },
          "scene": {
           "xaxis": {
            "backgroundcolor": "#E5ECF6",
            "gridcolor": "white",
            "gridwidth": 2,
            "linecolor": "white",
            "showbackground": true,
            "ticks": "",
            "zerolinecolor": "white"
           },
           "yaxis": {
            "backgroundcolor": "#E5ECF6",
            "gridcolor": "white",
            "gridwidth": 2,
            "linecolor": "white",
            "showbackground": true,
            "ticks": "",
            "zerolinecolor": "white"
           },
           "zaxis": {
            "backgroundcolor": "#E5ECF6",
            "gridcolor": "white",
            "gridwidth": 2,
            "linecolor": "white",
            "showbackground": true,
            "ticks": "",
            "zerolinecolor": "white"
           }
          },
          "shapedefaults": {
           "line": {
            "color": "#2a3f5f"
           }
          },
          "ternary": {
           "aaxis": {
            "gridcolor": "white",
            "linecolor": "white",
            "ticks": ""
           },
           "baxis": {
            "gridcolor": "white",
            "linecolor": "white",
            "ticks": ""
           },
           "bgcolor": "#E5ECF6",
           "caxis": {
            "gridcolor": "white",
            "linecolor": "white",
            "ticks": ""
           }
          },
          "title": {
           "x": 0.05
          },
          "xaxis": {
           "automargin": true,
           "gridcolor": "white",
           "linecolor": "white",
           "ticks": "",
           "title": {
            "standoff": 15
           },
           "zerolinecolor": "white",
           "zerolinewidth": 2
          },
          "yaxis": {
           "automargin": true,
           "gridcolor": "white",
           "linecolor": "white",
           "ticks": "",
           "title": {
            "standoff": 15
           },
           "zerolinecolor": "white",
           "zerolinewidth": 2
          }
         }
        },
        "xaxis": {
         "anchor": "y",
         "domain": [
          0,
          1
         ],
         "showgrid": false,
         "title": {
          "text": "Linha"
         }
        },
        "yaxis": {
         "anchor": "x",
         "domain": [
          0,
          1
         ],
         "dtick": 10,
         "gridcolor": "lightgrey",
         "range": [
          0,
          110
         ],
         "title": {
          "text": "% Execução"
         }
        }
       }
      },
      "image/png": "[encoded data removed]"
     },
     "metadata": {},
     "output_type": "display_data"
    }
   ],
   "source": [
    "# Criar coluna de texto formatada\n",
    "faixa_grafico['text_percent'] = faixa_grafico['% Execução'].round(1).astype(str) + '%'\n",
    "\n",
    "# Criar coluna de cor\n",
    "faixa_grafico['color'] = faixa_grafico['% Execução'].apply(lambda x: 'green' if x >= 80 else 'red')\n",
    "\n",
    "# Criar o gráfico\n",
    "fig = px.bar(\n",
    "    faixa_grafico,\n",
    "    x='Linha',\n",
    "    y='% Execução',\n",
    "    text='text_percent',\n",
    "    color='color',\n",
    "    color_discrete_map={\n",
    "        'green': 'green',\n",
    "        'red': 'red'\n",
    "    }\n",
    ")\n",
    "\n",
    "# Personalizar o eixo Y\n",
    "fig.update_yaxes(\n",
    "    dtick=10,\n",
    "    range=[0, 110],\n",
    "    title_text='% Execução'\n",
    ")\n",
    "\n",
    "# Melhorar aparência do texto nas barras\n",
    "fig.update_traces(\n",
    "    textposition='outside'\n",
    ")\n",
    "\n",
    "# Remover o fundo do gráfico\n",
    "fig.update_layout(\n",
    "    plot_bgcolor='white',      # Fundo da área do gráfico\n",
    "    paper_bgcolor='white',     # Fundo total da imagem\n",
    "    xaxis=dict(showgrid=False),  # Tirar linhas de grade no eixo X\n",
    "    yaxis=dict(gridcolor='lightgrey')  # (Opcional) Manter grade Y em cinza claro\n",
    ")\n",
    "\n",
    "fig.show()\n",
    "\n",
    "\n",
    "import streamlit as st\n",
    "\n",
    "# Exibir na Streamlit\n",
    "col1 = st.columns(1)\n",
    "\n",
    "with col1[0]:\n",
    "    st.plotly_chart(fig, use_container_width=True)"
   ]
  },
  {
   "cell_type": "code",
   "execution_count": null,
   "id": "fdff6046-2833-4238-8fa5-411b15513689",
   "metadata": {},
   "outputs": [],
   "source": []
  },
  {
   "cell_type": "code",
   "execution_count": null,
   "id": "2d3d4f49-d0a8-4b9f-b150-a37017105dc9",
   "metadata": {},
   "outputs": [],
   "source": []
  },
  {
   "cell_type": "code",
   "execution_count": null,
   "id": "dbfde76e-0765-4ddd-8d04-113daefb573b",
   "metadata": {},
   "outputs": [],
   "source": []
  },
  {
   "cell_type": "code",
   "execution_count": null,
   "id": "0e04bb96-a914-427f-a3e1-1b76e5cdff65",
   "metadata": {},
   "outputs": [],
   "source": []
  }
 ],
 "metadata": {
  "kernelspec": {
   "display_name": "Python 3 (ipykernel)",
   "language": "python",
   "name": "python3"
  },
  "language_info": {
   "codemirror_mode": {
    "name": "ipython",
    "version": 3
   },
   "file_extension": ".py",
   "mimetype": "text/x-python",
   "name": "python",
   "nbconvert_exporter": "python",
   "pygments_lexer": "ipython3",
   "version": "3.13.2"
  }
 },
 "nbformat": 4,
 "nbformat_minor": 5
}
