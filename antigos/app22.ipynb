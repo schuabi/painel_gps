{
 "cells": [
  {
   "cell_type": "code",
   "execution_count": 122,
   "id": "b8bf418f-de24-40a0-8c0d-718ea463d747",
   "metadata": {},
   "outputs": [],
   "source": [
    "import pandas as pd\n",
    "from datetime import datetime"
   ]
  },
  {
   "cell_type": "code",
   "execution_count": 123,
   "id": "06837cd1-e64f-41fd-83dc-bca7d4817219",
   "metadata": {},
   "outputs": [],
   "source": [
    "gps = pd.read_csv(\"C:/dashboard_onibus/dados/dados_gps.csv\", sep=\";\")\n",
    "faixas = pd.read_csv(\"C:/dashboard_onibus/dados/faixas_horarias.csv\", sep=\";\")\n",
    "linhas = pd.read_csv(\"C:/dashboard_onibus/dados/linhas_e_nucleos.csv\", sep=\";\")\n",
    "programacao = pd.read_csv(\"C://dashboard_onibus/dados/programacao_partidas.csv\", sep=\";\")"
   ]
  },
  {
   "cell_type": "code",
   "execution_count": 124,
   "id": "27f61bc2-ff91-488a-ab4a-90703bfb9710",
   "metadata": {},
   "outputs": [],
   "source": [
    "del gps['Linha Informada a SMTR']\n",
    "del gps['Linha Realizada pela SMTR']\n",
    "del gps['Veículo Consolidado pela SMTR']\n",
    "del gps ['Início da Viagem pela SMTR']\n",
    "del gps ['Término da Viagem pela SMTR']\n",
    "del gps ['Viagem Reconhecida']"
   ]
  },
  {
   "cell_type": "code",
   "execution_count": 125,
   "id": "31ef3059-0905-4659-a1c5-7ce620e07f5e",
   "metadata": {},
   "outputs": [],
   "source": [
    "gps_nucleo = pd.merge(gps, linhas, on=\"Linha\", how=\"left\")"
   ]
  },
  {
   "cell_type": "code",
   "execution_count": 126,
   "id": "f20d8a5c-39a9-457f-a5a1-69af9383213a",
   "metadata": {},
   "outputs": [],
   "source": [
    "del gps_nucleo['Tipo Linha']\n",
    "del gps_nucleo['Nome_Linha']"
   ]
  },
  {
   "cell_type": "code",
   "execution_count": 127,
   "id": "65f3da15-d20c-4382-965a-c0ed7e1b7785",
   "metadata": {},
   "outputs": [],
   "source": [
    "gps_nucleo['Início da Viagem'] = pd.to_datetime(gps_nucleo['Início da Viagem'], dayfirst=True)"
   ]
  },
  {
   "cell_type": "code",
   "execution_count": 128,
   "id": "5474e04f-ab61-481b-b0a4-94bc40d71813",
   "metadata": {},
   "outputs": [],
   "source": [
    "gps_nucleo['Término da Viagem'] = pd.to_datetime(gps_nucleo['Término da Viagem'], format='%d/%m/%Y %H:%M:%S', errors='coerce')"
   ]
  },
  {
   "cell_type": "code",
   "execution_count": 129,
   "id": "cf6e5219-28ab-4c2a-9857-c5d10a0ba781",
   "metadata": {},
   "outputs": [],
   "source": [
    "# 1. Extrair a hora da viagem como time\n",
    "gps_nucleo['hora_viagem'] = gps_nucleo['Início da Viagem'].dt.time"
   ]
  },
  {
   "cell_type": "code",
   "execution_count": 130,
   "id": "178bd222-f844-4f5d-8e42-805813aa89e8",
   "metadata": {},
   "outputs": [],
   "source": [
    "# 2. Adicionar chave auxiliar para cross join\n",
    "gps_nucleo['_key'] = 1\n",
    "faixas['_key'] = 1"
   ]
  },
  {
   "cell_type": "code",
   "execution_count": 131,
   "id": "7ce20592-c5b0-4dcf-a913-17129d237489",
   "metadata": {},
   "outputs": [],
   "source": [
    "# Cross join\n",
    "merged = pd.merge(gps_nucleo, faixas, on='_key')"
   ]
  },
  {
   "cell_type": "code",
   "execution_count": 132,
   "id": "567998f3-6e39-4c14-9264-69f334619203",
   "metadata": {},
   "outputs": [],
   "source": [
    "# Converte hora_inicio e hora_fim para tipo time\n",
    "merged['hora_inicio'] = pd.to_datetime(merged['hora_inicio'], format='%H:%M:%S').dt.time\n",
    "merged['hora_fim'] = pd.to_datetime(merged['hora_fim'], format='%H:%M:%S').dt.time"
   ]
  },
  {
   "cell_type": "code",
   "execution_count": 133,
   "id": "d2a4e34e-3993-4bb3-9f90-934a99d0805f",
   "metadata": {},
   "outputs": [],
   "source": [
    "# Filtra registros com hora_viagem dentro do intervalo da faixa horária\n",
    "resultado = merged[(merged['hora_viagem'] >= merged['hora_inicio']) & (merged['hora_viagem'] <= merged['hora_fim'])]"
   ]
  },
  {
   "cell_type": "code",
   "execution_count": 134,
   "id": "a04acb04-3418-45d7-b527-2cae0c29d8ef",
   "metadata": {},
   "outputs": [],
   "source": [
    "# Selecionar colunas necessárias\n",
    "resultado = resultado[['Início da Viagem', 'Faixa_Horaria']]"
   ]
  },
  {
   "cell_type": "code",
   "execution_count": 135,
   "id": "e673e7c8-976e-4bc9-aa43-ac9d84a4a581",
   "metadata": {},
   "outputs": [],
   "source": [
    "# Mescla com gps_nucleo\n",
    "gps_nucleo = gps_nucleo.merge(resultado, on='Início da Viagem', how='left')"
   ]
  },
  {
   "cell_type": "code",
   "execution_count": 136,
   "id": "5375025d-b59c-42c6-947a-568205d7c42f",
   "metadata": {},
   "outputs": [],
   "source": [
    "# Remove duplicatas com base em todas as colunas\n",
    "gps_nucleo = gps_nucleo.drop_duplicates()"
   ]
  },
  {
   "cell_type": "code",
   "execution_count": 137,
   "id": "87047eaa-fe55-4a91-83d5-5d77b9f39b21",
   "metadata": {},
   "outputs": [],
   "source": [
    "# Exporta para CSV\n",
    "gps_nucleo.to_csv(\"C:/dashboard_onibus/gps_com_faixa_horaria.csv\", sep=\";\", index=False, encoding='utf-8-sig')"
   ]
  },
  {
   "cell_type": "code",
   "execution_count": 138,
   "id": "b584123a-d37c-493a-be86-0d08787867b2",
   "metadata": {},
   "outputs": [],
   "source": [
    "# Faz a contagem de partidas por linha e faixa horária\n",
    "contagem_partidas = gps_nucleo.groupby(['Linha', 'Faixa_Horaria']).size().reset_index(name='Total_Partidas')"
   ]
  },
  {
   "cell_type": "code",
   "execution_count": 139,
   "id": "54e25dd8-7854-4917-aabd-bd598c30bdac",
   "metadata": {},
   "outputs": [],
   "source": [
    "# Ordena por Linha e Faixa_Horaria para melhor visualização\n",
    "contagem_partidas = contagem_partidas.sort_values(by=['Linha', 'Faixa_Horaria'])"
   ]
  },
  {
   "cell_type": "code",
   "execution_count": 140,
   "id": "2c3cf1e8-fb52-440f-8e0c-f1a1d3ab877b",
   "metadata": {},
   "outputs": [
    {
     "name": "stdout",
     "output_type": "stream",
     "text": [
      "    Linha Faixa_Horaria  Total_Partidas\n",
      "0     108         03-06              14\n",
      "1     108         06-09              35\n",
      "2     108         09-12              33\n",
      "3     108         12-15              28\n",
      "4     108         15-18              30\n",
      "..    ...           ...             ...\n",
      "81  SV112         09-12              16\n",
      "82  SV112         12-15              17\n",
      "83  SV112         15-18              16\n",
      "84  SV112         18-21              17\n",
      "85  SV112         21-00               5\n",
      "\n",
      "[86 rows x 3 columns]\n"
     ]
    }
   ],
   "source": [
    "# Exibe o resultado\n",
    "print(contagem_partidas)"
   ]
  },
  {
   "cell_type": "code",
   "execution_count": 141,
   "id": "dee48ed8-6cf5-4153-9bfa-0c2cc6cdd245",
   "metadata": {},
   "outputs": [],
   "source": [
    "# (Opcional) Exporta para CSV\n",
    "contagem_partidas.to_csv(\"C:/dashboard_onibus/contagem_partidas_por_faixa.csv\", sep=\";\", index=False, encoding='utf-8-sig')"
   ]
  },
  {
   "cell_type": "code",
   "execution_count": null,
   "id": "09bad54d-dc25-4614-aa81-d57eca0ae545",
   "metadata": {},
   "outputs": [],
   "source": []
  },
  {
   "cell_type": "code",
   "execution_count": null,
   "id": "6eb115d6-48b5-40e7-9139-99aa2c781c8f",
   "metadata": {},
   "outputs": [],
   "source": []
  },
  {
   "cell_type": "code",
   "execution_count": null,
   "id": "bd75984d-7ec6-4173-9d22-22c43b33f54a",
   "metadata": {},
   "outputs": [],
   "source": []
  }
 ],
 "metadata": {
  "kernelspec": {
   "display_name": "Python 3 (ipykernel)",
   "language": "python",
   "name": "python3"
  },
  "language_info": {
   "codemirror_mode": {
    "name": "ipython",
    "version": 3
   },
   "file_extension": ".py",
   "mimetype": "text/x-python",
   "name": "python",
   "nbconvert_exporter": "python",
   "pygments_lexer": "ipython3",
   "version": "3.13.2"
  }
 },
 "nbformat": 4,
 "nbformat_minor": 5
}
