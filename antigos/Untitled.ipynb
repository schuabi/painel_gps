{
 "cells": [
  {
   "cell_type": "code",
   "execution_count": 7,
   "id": "b91926ab-250e-4e85-baf8-3f8d02d5531c",
   "metadata": {},
   "outputs": [],
   "source": [
    "import pandas as pd"
   ]
  },
  {
   "cell_type": "code",
   "execution_count": 14,
   "id": "710d9050-e84a-43b6-9dce-b27333b6bc11",
   "metadata": {},
   "outputs": [],
   "source": [
    "linhas_nucleos = pd.read_csv('linhas_e_nucleos.csv', sep=';')"
   ]
  },
  {
   "cell_type": "code",
   "execution_count": 16,
   "id": "c0ec6824-9d3d-4868-a75e-b14cbed4a477",
   "metadata": {},
   "outputs": [],
   "source": [
    "linhas_nucleos.columns = linhas_nucleos.columns.str.strip()"
   ]
  },
  {
   "cell_type": "code",
   "execution_count": 18,
   "id": "7e99d983-4e7a-4b72-a65c-bdd0c9eeee2e",
   "metadata": {},
   "outputs": [],
   "source": [
    "linhas_nucleos = linhas_nucleos.dropna(subset=['nucleo'])"
   ]
  },
  {
   "cell_type": "code",
   "execution_count": 19,
   "id": "bd0da09d-4fbc-4d80-9a5a-10fa477ffe38",
   "metadata": {},
   "outputs": [
    {
     "name": "stdout",
     "output_type": "stream",
     "text": [
      "['Linha', 'nucleo', 'Tipo Linha', 'Nome_Linha']\n"
     ]
    }
   ],
   "source": [
    "print(linhas_nucleos.columns.tolist())"
   ]
  }
 ],
 "metadata": {
  "kernelspec": {
   "display_name": "Python 3 (ipykernel)",
   "language": "python",
   "name": "python3"
  },
  "language_info": {
   "codemirror_mode": {
    "name": "ipython",
    "version": 3
   },
   "file_extension": ".py",
   "mimetype": "text/x-python",
   "name": "python",
   "nbconvert_exporter": "python",
   "pygments_lexer": "ipython3",
   "version": "3.13.2"
  }
 },
 "nbformat": 4,
 "nbformat_minor": 5
}
