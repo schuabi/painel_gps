{
 "cells": [
  {
   "cell_type": "code",
   "execution_count": 112,
   "id": "aa2e6c84-c369-4e2f-9253-cffee47f9b36",
   "metadata": {},
   "outputs": [],
   "source": [
    "import pandas as pd\n",
    "from datetime import datetime\n",
    "import plotly.express as px"
   ]
  },
  {
   "cell_type": "code",
   "execution_count": 113,
   "id": "3892bf6e-f728-40a7-8ae3-df13c6ac0a01",
   "metadata": {},
   "outputs": [],
   "source": [
    "gps_nucleo = pd.read_csv(\"C:/dashboard_onibus/dados/dados_gps.csv\", sep=\";\")\n",
    "faixas = pd.read_csv(\"C:/dashboard_onibus/dados/faixas_horarias.csv\", sep=\";\")\n",
    "linhas = pd.read_csv(\"C:/dashboard_onibus/dados/linhas_e_nucleos.csv\", sep=\";\")\n",
    "programacao = pd.read_csv(\"C://dashboard_onibus/dados/programacao_partidas.csv\", sep=\";\")"
   ]
  },
  {
   "cell_type": "code",
   "execution_count": 114,
   "id": "e3656a63-9c0c-4ca5-96fe-8574136eb90b",
   "metadata": {},
   "outputs": [],
   "source": [
    "del gps_nucleo['Linha Informada a SMTR']\n",
    "del gps_nucleo['Linha Realizada pela SMTR']\n",
    "del gps_nucleo['Veículo Consolidado pela SMTR']\n",
    "del gps_nucleo ['Início da Viagem pela SMTR']\n",
    "del gps_nucleo ['Término da Viagem pela SMTR']\n",
    "del gps_nucleo ['Viagem Reconhecida']"
   ]
  },
  {
   "cell_type": "code",
   "execution_count": 115,
   "id": "c389d549-b5b0-40c9-bf78-257ca78ede7d",
   "metadata": {},
   "outputs": [],
   "source": [
    "gps_nucleo = pd.merge(gps_nucleo, linhas, on=\"Linha\", how=\"left\")"
   ]
  },
  {
   "cell_type": "code",
   "execution_count": 116,
   "id": "92e437ab-0703-4eb1-bfb7-e03bfef88bc7",
   "metadata": {},
   "outputs": [],
   "source": [
    "del gps_nucleo ['Tipo Linha']\n",
    "del gps_nucleo ['Nome_Linha']"
   ]
  },
  {
   "cell_type": "code",
   "execution_count": 117,
   "id": "4eab9d02-52f5-4bdf-994a-49011338f713",
   "metadata": {},
   "outputs": [],
   "source": [
    "gps_nucleo['Início da Viagem'] = pd.to_datetime(gps_nucleo['Início da Viagem'], dayfirst=True)\n",
    "gps_nucleo['Término da Viagem'] = pd.to_datetime(gps_nucleo['Término da Viagem'], format='%d/%m/%Y %H:%M:%S', errors='coerce')"
   ]
  },
  {
   "cell_type": "code",
   "execution_count": 118,
   "id": "1ea865f6-41cd-4ca5-9bf3-aa8584f4af0c",
   "metadata": {},
   "outputs": [],
   "source": [
    "gps_nucleo['hora_viagem'] = gps_nucleo['Início da Viagem'].dt.time"
   ]
  },
  {
   "cell_type": "code",
   "execution_count": 119,
   "id": "d883b58d-7369-4798-858e-00bbb4119abf",
   "metadata": {},
   "outputs": [],
   "source": [
    "gps_nucleo['_key'] = 1\n",
    "faixas['_key'] = 1"
   ]
  },
  {
   "cell_type": "code",
   "execution_count": 120,
   "id": "198c0d9c-c184-4861-b620-04b9e3b75c49",
   "metadata": {},
   "outputs": [],
   "source": [
    "merged = pd.merge(gps_nucleo, faixas, on='_key')"
   ]
  },
  {
   "cell_type": "code",
   "execution_count": 121,
   "id": "dfc8710a-21d2-4dc6-b3ac-694623857821",
   "metadata": {},
   "outputs": [],
   "source": [
    "merged['hora_inicio'] = pd.to_datetime(merged['hora_inicio'], format='%H:%M:%S').dt.time\n",
    "merged['hora_fim'] = pd.to_datetime(merged['hora_fim'], format='%H:%M:%S').dt.time"
   ]
  },
  {
   "cell_type": "code",
   "execution_count": 122,
   "id": "bd6c2401-8834-49cb-9ec5-631f14fcb42f",
   "metadata": {},
   "outputs": [],
   "source": [
    "resultado = merged[(merged['hora_viagem'] >= merged['hora_inicio']) & (merged['hora_viagem'] <= merged['hora_fim'])]"
   ]
  },
  {
   "cell_type": "code",
   "execution_count": 123,
   "id": "4c5cfcf8-826d-46fd-9368-797fbe854d3c",
   "metadata": {},
   "outputs": [],
   "source": [
    "resultado = resultado[['Início da Viagem', 'Faixa_Horaria']]"
   ]
  },
  {
   "cell_type": "code",
   "execution_count": 124,
   "id": "e25ea609-5a3d-4a56-a624-facb7e6012f3",
   "metadata": {},
   "outputs": [],
   "source": [
    "gps_nucleo = gps_nucleo.merge(resultado, on='Início da Viagem', how='left')"
   ]
  },
  {
   "cell_type": "code",
   "execution_count": 125,
   "id": "f60ee445-5136-4192-b7fc-9195acb352fa",
   "metadata": {},
   "outputs": [],
   "source": [
    "gps_nucleo = gps_nucleo.drop_duplicates()"
   ]
  },
  {
   "cell_type": "code",
   "execution_count": 126,
   "id": "bec53e68-e5d4-4735-8f3b-d767a9f1ca13",
   "metadata": {},
   "outputs": [],
   "source": [
    "partidas_executadas = gps_nucleo.groupby(['Linha', 'Faixa_Horaria']).size().reset_index(name='Total_Partidas')"
   ]
  },
  {
   "cell_type": "code",
   "execution_count": 127,
   "id": "c1239664-6f88-4f89-a130-06f4e6d217ff",
   "metadata": {},
   "outputs": [],
   "source": [
    "partidas_executadas = partidas_executadas.sort_values(by=['Linha', 'Faixa_Horaria'])"
   ]
  },
  {
   "cell_type": "code",
   "execution_count": 128,
   "id": "4997ea8c-835b-443d-b80f-ea944387b359",
   "metadata": {},
   "outputs": [
    {
     "data": {
      "text/html": [
       "<div>\n",
       "<style scoped>\n",
       "    .dataframe tbody tr th:only-of-type {\n",
       "        vertical-align: middle;\n",
       "    }\n",
       "\n",
       "    .dataframe tbody tr th {\n",
       "        vertical-align: top;\n",
       "    }\n",
       "\n",
       "    .dataframe thead th {\n",
       "        text-align: right;\n",
       "    }\n",
       "</style>\n",
       "<table border=\"1\" class=\"dataframe\">\n",
       "  <thead>\n",
       "    <tr style=\"text-align: right;\">\n",
       "      <th></th>\n",
       "      <th>Linha</th>\n",
       "      <th>Viagens Programadas</th>\n",
       "      <th>Tipo Linha</th>\n",
       "      <th>Tipo Dia</th>\n",
       "      <th>Tipo de Programação</th>\n",
       "      <th>Faixa</th>\n",
       "    </tr>\n",
       "  </thead>\n",
       "  <tbody>\n",
       "    <tr>\n",
       "      <th>0</th>\n",
       "      <td>Linha</td>\n",
       "      <td>Viagens Programadas</td>\n",
       "      <td>Tipo Linha</td>\n",
       "      <td>Tipo Dia</td>\n",
       "      <td>Tipo de Programação</td>\n",
       "      <td>00-03</td>\n",
       "    </tr>\n",
       "    <tr>\n",
       "      <th>1</th>\n",
       "      <td>100</td>\n",
       "      <td>0</td>\n",
       "      <td>Linha</td>\n",
       "      <td>Dia Útil</td>\n",
       "      <td>100% SMTR</td>\n",
       "      <td>00-03</td>\n",
       "    </tr>\n",
       "    <tr>\n",
       "      <th>2</th>\n",
       "      <td>105</td>\n",
       "      <td>0</td>\n",
       "      <td>Linha</td>\n",
       "      <td>Dia Útil</td>\n",
       "      <td>100% SMTR</td>\n",
       "      <td>00-03</td>\n",
       "    </tr>\n",
       "    <tr>\n",
       "      <th>3</th>\n",
       "      <td>108</td>\n",
       "      <td>0</td>\n",
       "      <td>Linha</td>\n",
       "      <td>Dia Útil</td>\n",
       "      <td>100% SMTR</td>\n",
       "      <td>00-03</td>\n",
       "    </tr>\n",
       "    <tr>\n",
       "      <th>4</th>\n",
       "      <td>110</td>\n",
       "      <td>0</td>\n",
       "      <td>Linha</td>\n",
       "      <td>Dia Útil</td>\n",
       "      <td>100% SMTR</td>\n",
       "      <td>00-03</td>\n",
       "    </tr>\n",
       "    <tr>\n",
       "      <th>...</th>\n",
       "      <td>...</td>\n",
       "      <td>...</td>\n",
       "      <td>...</td>\n",
       "      <td>...</td>\n",
       "      <td>...</td>\n",
       "      <td>...</td>\n",
       "    </tr>\n",
       "    <tr>\n",
       "      <th>220</th>\n",
       "      <td>SN538</td>\n",
       "      <td>5</td>\n",
       "      <td>Linha</td>\n",
       "      <td>Dia Útil</td>\n",
       "      <td>100% SMTR</td>\n",
       "      <td>21-00</td>\n",
       "    </tr>\n",
       "    <tr>\n",
       "      <th>221</th>\n",
       "      <td>SP309</td>\n",
       "      <td>0</td>\n",
       "      <td>Serviço</td>\n",
       "      <td>Dia Útil</td>\n",
       "      <td>100% SMTR</td>\n",
       "      <td>21-00</td>\n",
       "    </tr>\n",
       "    <tr>\n",
       "      <th>222</th>\n",
       "      <td>SP315</td>\n",
       "      <td>0</td>\n",
       "      <td>Serviço</td>\n",
       "      <td>Dia Útil</td>\n",
       "      <td>100% SMTR</td>\n",
       "      <td>21-00</td>\n",
       "    </tr>\n",
       "    <tr>\n",
       "      <th>223</th>\n",
       "      <td>SP553</td>\n",
       "      <td>0</td>\n",
       "      <td>Serviço</td>\n",
       "      <td>Dia Útil</td>\n",
       "      <td>100% SMTR</td>\n",
       "      <td>21-00</td>\n",
       "    </tr>\n",
       "    <tr>\n",
       "      <th>224</th>\n",
       "      <td>SV112</td>\n",
       "      <td>5</td>\n",
       "      <td>Linha</td>\n",
       "      <td>Dia Útil</td>\n",
       "      <td>100% SMTR</td>\n",
       "      <td>21-00</td>\n",
       "    </tr>\n",
       "  </tbody>\n",
       "</table>\n",
       "<p>225 rows × 6 columns</p>\n",
       "</div>"
      ],
      "text/plain": [
       "     Linha  Viagens Programadas  Tipo Linha  Tipo Dia  Tipo de Programação  \\\n",
       "0    Linha  Viagens Programadas  Tipo Linha  Tipo Dia  Tipo de Programação   \n",
       "1      100                    0       Linha  Dia Útil            100% SMTR   \n",
       "2      105                    0       Linha  Dia Útil            100% SMTR   \n",
       "3      108                    0       Linha  Dia Útil            100% SMTR   \n",
       "4      110                    0       Linha  Dia Útil            100% SMTR   \n",
       "..     ...                  ...         ...       ...                  ...   \n",
       "220  SN538                    5       Linha  Dia Útil            100% SMTR   \n",
       "221  SP309                    0     Serviço  Dia Útil            100% SMTR   \n",
       "222  SP315                    0     Serviço  Dia Útil            100% SMTR   \n",
       "223  SP553                    0     Serviço  Dia Útil            100% SMTR   \n",
       "224  SV112                    5       Linha  Dia Útil            100% SMTR   \n",
       "\n",
       "     Faixa  \n",
       "0    00-03  \n",
       "1    00-03  \n",
       "2    00-03  \n",
       "3    00-03  \n",
       "4    00-03  \n",
       "..     ...  \n",
       "220  21-00  \n",
       "221  21-00  \n",
       "222  21-00  \n",
       "223  21-00  \n",
       "224  21-00  \n",
       "\n",
       "[225 rows x 6 columns]"
      ]
     },
     "execution_count": 128,
     "metadata": {},
     "output_type": "execute_result"
    }
   ],
   "source": [
    "programacao"
   ]
  },
  {
   "cell_type": "code",
   "execution_count": 129,
   "id": "9eabe830-22d2-43d9-929b-1f2a9bf924ef",
   "metadata": {},
   "outputs": [],
   "source": [
    "programacao.columns = programacao.columns.str.strip()\n",
    "partidas_executadas.columns = partidas_executadas.columns.str.strip()"
   ]
  },
  {
   "cell_type": "code",
   "execution_count": 130,
   "id": "905049f1-f70e-466a-b89c-e6f45e88f679",
   "metadata": {},
   "outputs": [],
   "source": [
    "partidas_executadas = partidas_executadas.rename(columns={'Total_Partidas': 'Executado'})"
   ]
  },
  {
   "cell_type": "code",
   "execution_count": 131,
   "id": "a186c0ae-0c53-4d87-a3d6-208bdfe60877",
   "metadata": {},
   "outputs": [],
   "source": [
    "programacao = programacao.rename(columns={'Faixa': 'Faixa_Horaria', 'linha': 'Linha'})"
   ]
  },
  {
   "cell_type": "code",
   "execution_count": 132,
   "id": "506bc110-f94f-4143-bedc-18eaedbbc3d0",
   "metadata": {},
   "outputs": [],
   "source": [
    "comparativo = pd.merge(\n",
    "    partidas_executadas,\n",
    "    programacao.rename(columns={'Viagens Programadas': 'Programado'}),\n",
    "    how='left',\n",
    "    on=['Linha', 'Faixa_Horaria']\n",
    ")\n"
   ]
  },
  {
   "cell_type": "code",
   "execution_count": 133,
   "id": "a3cb2be0-7254-47c2-91cc-8d59fef141f5",
   "metadata": {},
   "outputs": [
    {
     "data": {
      "text/html": [
       "<div>\n",
       "<style scoped>\n",
       "    .dataframe tbody tr th:only-of-type {\n",
       "        vertical-align: middle;\n",
       "    }\n",
       "\n",
       "    .dataframe tbody tr th {\n",
       "        vertical-align: top;\n",
       "    }\n",
       "\n",
       "    .dataframe thead th {\n",
       "        text-align: right;\n",
       "    }\n",
       "</style>\n",
       "<table border=\"1\" class=\"dataframe\">\n",
       "  <thead>\n",
       "    <tr style=\"text-align: right;\">\n",
       "      <th></th>\n",
       "      <th>Linha</th>\n",
       "      <th>Faixa_Horaria</th>\n",
       "      <th>Executado</th>\n",
       "      <th>Programado</th>\n",
       "      <th>Tipo Linha</th>\n",
       "      <th>Tipo Dia</th>\n",
       "      <th>Tipo de Programação</th>\n",
       "    </tr>\n",
       "  </thead>\n",
       "  <tbody>\n",
       "    <tr>\n",
       "      <th>0</th>\n",
       "      <td>108</td>\n",
       "      <td>03-06</td>\n",
       "      <td>12</td>\n",
       "      <td>15</td>\n",
       "      <td>Linha</td>\n",
       "      <td>Dia Útil</td>\n",
       "      <td>100% SMTR</td>\n",
       "    </tr>\n",
       "    <tr>\n",
       "      <th>1</th>\n",
       "      <td>108</td>\n",
       "      <td>06-09</td>\n",
       "      <td>36</td>\n",
       "      <td>42</td>\n",
       "      <td>Linha</td>\n",
       "      <td>Dia Útil</td>\n",
       "      <td>100% SMTR</td>\n",
       "    </tr>\n",
       "    <tr>\n",
       "      <th>2</th>\n",
       "      <td>108</td>\n",
       "      <td>09-12</td>\n",
       "      <td>32</td>\n",
       "      <td>37</td>\n",
       "      <td>Linha</td>\n",
       "      <td>Dia Útil</td>\n",
       "      <td>100% SMTR</td>\n",
       "    </tr>\n",
       "    <tr>\n",
       "      <th>3</th>\n",
       "      <td>108</td>\n",
       "      <td>12-15</td>\n",
       "      <td>27</td>\n",
       "      <td>32</td>\n",
       "      <td>Linha</td>\n",
       "      <td>Dia Útil</td>\n",
       "      <td>100% SMTR</td>\n",
       "    </tr>\n",
       "    <tr>\n",
       "      <th>4</th>\n",
       "      <td>110</td>\n",
       "      <td>03-06</td>\n",
       "      <td>15</td>\n",
       "      <td>16</td>\n",
       "      <td>Linha</td>\n",
       "      <td>Dia Útil</td>\n",
       "      <td>100% SMTR</td>\n",
       "    </tr>\n",
       "    <tr>\n",
       "      <th>5</th>\n",
       "      <td>110</td>\n",
       "      <td>06-09</td>\n",
       "      <td>43</td>\n",
       "      <td>52</td>\n",
       "      <td>Linha</td>\n",
       "      <td>Dia Útil</td>\n",
       "      <td>100% SMTR</td>\n",
       "    </tr>\n",
       "    <tr>\n",
       "      <th>6</th>\n",
       "      <td>110</td>\n",
       "      <td>09-12</td>\n",
       "      <td>34</td>\n",
       "      <td>35</td>\n",
       "      <td>Linha</td>\n",
       "      <td>Dia Útil</td>\n",
       "      <td>100% SMTR</td>\n",
       "    </tr>\n",
       "    <tr>\n",
       "      <th>7</th>\n",
       "      <td>110</td>\n",
       "      <td>12-15</td>\n",
       "      <td>30</td>\n",
       "      <td>35</td>\n",
       "      <td>Linha</td>\n",
       "      <td>Dia Útil</td>\n",
       "      <td>100% SMTR</td>\n",
       "    </tr>\n",
       "    <tr>\n",
       "      <th>8</th>\n",
       "      <td>112</td>\n",
       "      <td>03-06</td>\n",
       "      <td>15</td>\n",
       "      <td>16</td>\n",
       "      <td>Linha</td>\n",
       "      <td>Dia Útil</td>\n",
       "      <td>100% SMTR</td>\n",
       "    </tr>\n",
       "    <tr>\n",
       "      <th>9</th>\n",
       "      <td>112</td>\n",
       "      <td>06-09</td>\n",
       "      <td>35</td>\n",
       "      <td>60</td>\n",
       "      <td>Linha</td>\n",
       "      <td>Dia Útil</td>\n",
       "      <td>100% SMTR</td>\n",
       "    </tr>\n",
       "    <tr>\n",
       "      <th>10</th>\n",
       "      <td>112</td>\n",
       "      <td>09-12</td>\n",
       "      <td>36</td>\n",
       "      <td>40</td>\n",
       "      <td>Linha</td>\n",
       "      <td>Dia Útil</td>\n",
       "      <td>100% SMTR</td>\n",
       "    </tr>\n",
       "    <tr>\n",
       "      <th>11</th>\n",
       "      <td>112</td>\n",
       "      <td>12-15</td>\n",
       "      <td>27</td>\n",
       "      <td>30</td>\n",
       "      <td>Linha</td>\n",
       "      <td>Dia Útil</td>\n",
       "      <td>100% SMTR</td>\n",
       "    </tr>\n",
       "    <tr>\n",
       "      <th>12</th>\n",
       "      <td>163</td>\n",
       "      <td>03-06</td>\n",
       "      <td>6</td>\n",
       "      <td>6</td>\n",
       "      <td>Linha</td>\n",
       "      <td>Dia Útil</td>\n",
       "      <td>100% SMTR</td>\n",
       "    </tr>\n",
       "    <tr>\n",
       "      <th>13</th>\n",
       "      <td>163</td>\n",
       "      <td>06-09</td>\n",
       "      <td>21</td>\n",
       "      <td>32</td>\n",
       "      <td>Linha</td>\n",
       "      <td>Dia Útil</td>\n",
       "      <td>100% SMTR</td>\n",
       "    </tr>\n",
       "    <tr>\n",
       "      <th>14</th>\n",
       "      <td>163</td>\n",
       "      <td>09-12</td>\n",
       "      <td>19</td>\n",
       "      <td>19</td>\n",
       "      <td>Linha</td>\n",
       "      <td>Dia Útil</td>\n",
       "      <td>100% SMTR</td>\n",
       "    </tr>\n",
       "    <tr>\n",
       "      <th>15</th>\n",
       "      <td>163</td>\n",
       "      <td>12-15</td>\n",
       "      <td>13</td>\n",
       "      <td>16</td>\n",
       "      <td>Linha</td>\n",
       "      <td>Dia Útil</td>\n",
       "      <td>100% SMTR</td>\n",
       "    </tr>\n",
       "    <tr>\n",
       "      <th>16</th>\n",
       "      <td>222</td>\n",
       "      <td>03-06</td>\n",
       "      <td>1</td>\n",
       "      <td>1</td>\n",
       "      <td>Linha</td>\n",
       "      <td>Dia Útil</td>\n",
       "      <td>100% SMTR</td>\n",
       "    </tr>\n",
       "    <tr>\n",
       "      <th>17</th>\n",
       "      <td>222</td>\n",
       "      <td>06-09</td>\n",
       "      <td>4</td>\n",
       "      <td>5</td>\n",
       "      <td>Linha</td>\n",
       "      <td>Dia Útil</td>\n",
       "      <td>100% SMTR</td>\n",
       "    </tr>\n",
       "    <tr>\n",
       "      <th>18</th>\n",
       "      <td>222</td>\n",
       "      <td>09-12</td>\n",
       "      <td>4</td>\n",
       "      <td>4</td>\n",
       "      <td>Linha</td>\n",
       "      <td>Dia Útil</td>\n",
       "      <td>100% SMTR</td>\n",
       "    </tr>\n",
       "    <tr>\n",
       "      <th>19</th>\n",
       "      <td>222</td>\n",
       "      <td>12-15</td>\n",
       "      <td>3</td>\n",
       "      <td>3</td>\n",
       "      <td>Linha</td>\n",
       "      <td>Dia Útil</td>\n",
       "      <td>100% SMTR</td>\n",
       "    </tr>\n",
       "    <tr>\n",
       "      <th>20</th>\n",
       "      <td>309</td>\n",
       "      <td>03-06</td>\n",
       "      <td>33</td>\n",
       "      <td>37</td>\n",
       "      <td>Linha</td>\n",
       "      <td>Dia Útil</td>\n",
       "      <td>100% SMTR</td>\n",
       "    </tr>\n",
       "    <tr>\n",
       "      <th>21</th>\n",
       "      <td>309</td>\n",
       "      <td>06-09</td>\n",
       "      <td>62</td>\n",
       "      <td>72</td>\n",
       "      <td>Linha</td>\n",
       "      <td>Dia Útil</td>\n",
       "      <td>100% SMTR</td>\n",
       "    </tr>\n",
       "    <tr>\n",
       "      <th>22</th>\n",
       "      <td>309</td>\n",
       "      <td>09-12</td>\n",
       "      <td>53</td>\n",
       "      <td>56</td>\n",
       "      <td>Linha</td>\n",
       "      <td>Dia Útil</td>\n",
       "      <td>100% SMTR</td>\n",
       "    </tr>\n",
       "    <tr>\n",
       "      <th>23</th>\n",
       "      <td>309</td>\n",
       "      <td>12-15</td>\n",
       "      <td>48</td>\n",
       "      <td>46</td>\n",
       "      <td>Linha</td>\n",
       "      <td>Dia Útil</td>\n",
       "      <td>100% SMTR</td>\n",
       "    </tr>\n",
       "    <tr>\n",
       "      <th>24</th>\n",
       "      <td>315</td>\n",
       "      <td>03-06</td>\n",
       "      <td>27</td>\n",
       "      <td>29</td>\n",
       "      <td>Linha</td>\n",
       "      <td>Dia Útil</td>\n",
       "      <td>100% SMTR</td>\n",
       "    </tr>\n",
       "    <tr>\n",
       "      <th>25</th>\n",
       "      <td>315</td>\n",
       "      <td>06-09</td>\n",
       "      <td>30</td>\n",
       "      <td>48</td>\n",
       "      <td>Linha</td>\n",
       "      <td>Dia Útil</td>\n",
       "      <td>100% SMTR</td>\n",
       "    </tr>\n",
       "    <tr>\n",
       "      <th>26</th>\n",
       "      <td>315</td>\n",
       "      <td>09-12</td>\n",
       "      <td>25</td>\n",
       "      <td>29</td>\n",
       "      <td>Linha</td>\n",
       "      <td>Dia Útil</td>\n",
       "      <td>100% SMTR</td>\n",
       "    </tr>\n",
       "    <tr>\n",
       "      <th>27</th>\n",
       "      <td>315</td>\n",
       "      <td>12-15</td>\n",
       "      <td>27</td>\n",
       "      <td>29</td>\n",
       "      <td>Linha</td>\n",
       "      <td>Dia Útil</td>\n",
       "      <td>100% SMTR</td>\n",
       "    </tr>\n",
       "    <tr>\n",
       "      <th>28</th>\n",
       "      <td>444</td>\n",
       "      <td>03-06</td>\n",
       "      <td>1</td>\n",
       "      <td>1</td>\n",
       "      <td>Serviço</td>\n",
       "      <td>Dia Útil</td>\n",
       "      <td>100% SMTR</td>\n",
       "    </tr>\n",
       "    <tr>\n",
       "      <th>29</th>\n",
       "      <td>460</td>\n",
       "      <td>03-06</td>\n",
       "      <td>48</td>\n",
       "      <td>50</td>\n",
       "      <td>Linha</td>\n",
       "      <td>Dia Útil</td>\n",
       "      <td>100% SMTR</td>\n",
       "    </tr>\n",
       "    <tr>\n",
       "      <th>30</th>\n",
       "      <td>460</td>\n",
       "      <td>06-09</td>\n",
       "      <td>82</td>\n",
       "      <td>94</td>\n",
       "      <td>Linha</td>\n",
       "      <td>Dia Útil</td>\n",
       "      <td>100% SMTR</td>\n",
       "    </tr>\n",
       "    <tr>\n",
       "      <th>31</th>\n",
       "      <td>460</td>\n",
       "      <td>09-12</td>\n",
       "      <td>71</td>\n",
       "      <td>74</td>\n",
       "      <td>Linha</td>\n",
       "      <td>Dia Útil</td>\n",
       "      <td>100% SMTR</td>\n",
       "    </tr>\n",
       "    <tr>\n",
       "      <th>32</th>\n",
       "      <td>460</td>\n",
       "      <td>12-15</td>\n",
       "      <td>51</td>\n",
       "      <td>62</td>\n",
       "      <td>Linha</td>\n",
       "      <td>Dia Útil</td>\n",
       "      <td>100% SMTR</td>\n",
       "    </tr>\n",
       "    <tr>\n",
       "      <th>33</th>\n",
       "      <td>463</td>\n",
       "      <td>03-06</td>\n",
       "      <td>20</td>\n",
       "      <td>22</td>\n",
       "      <td>Linha</td>\n",
       "      <td>Dia Útil</td>\n",
       "      <td>100% SMTR</td>\n",
       "    </tr>\n",
       "    <tr>\n",
       "      <th>34</th>\n",
       "      <td>463</td>\n",
       "      <td>06-09</td>\n",
       "      <td>43</td>\n",
       "      <td>60</td>\n",
       "      <td>Linha</td>\n",
       "      <td>Dia Útil</td>\n",
       "      <td>100% SMTR</td>\n",
       "    </tr>\n",
       "    <tr>\n",
       "      <th>35</th>\n",
       "      <td>463</td>\n",
       "      <td>09-12</td>\n",
       "      <td>28</td>\n",
       "      <td>28</td>\n",
       "      <td>Linha</td>\n",
       "      <td>Dia Útil</td>\n",
       "      <td>100% SMTR</td>\n",
       "    </tr>\n",
       "    <tr>\n",
       "      <th>36</th>\n",
       "      <td>463</td>\n",
       "      <td>12-15</td>\n",
       "      <td>25</td>\n",
       "      <td>24</td>\n",
       "      <td>Linha</td>\n",
       "      <td>Dia Útil</td>\n",
       "      <td>100% SMTR</td>\n",
       "    </tr>\n",
       "    <tr>\n",
       "      <th>37</th>\n",
       "      <td>538</td>\n",
       "      <td>03-06</td>\n",
       "      <td>5</td>\n",
       "      <td>5</td>\n",
       "      <td>Linha</td>\n",
       "      <td>Dia Útil</td>\n",
       "      <td>100% SMTR</td>\n",
       "    </tr>\n",
       "    <tr>\n",
       "      <th>38</th>\n",
       "      <td>538</td>\n",
       "      <td>06-09</td>\n",
       "      <td>15</td>\n",
       "      <td>24</td>\n",
       "      <td>Linha</td>\n",
       "      <td>Dia Útil</td>\n",
       "      <td>100% SMTR</td>\n",
       "    </tr>\n",
       "    <tr>\n",
       "      <th>39</th>\n",
       "      <td>538</td>\n",
       "      <td>09-12</td>\n",
       "      <td>14</td>\n",
       "      <td>17</td>\n",
       "      <td>Linha</td>\n",
       "      <td>Dia Útil</td>\n",
       "      <td>100% SMTR</td>\n",
       "    </tr>\n",
       "    <tr>\n",
       "      <th>40</th>\n",
       "      <td>538</td>\n",
       "      <td>12-15</td>\n",
       "      <td>11</td>\n",
       "      <td>14</td>\n",
       "      <td>Linha</td>\n",
       "      <td>Dia Útil</td>\n",
       "      <td>100% SMTR</td>\n",
       "    </tr>\n",
       "    <tr>\n",
       "      <th>41</th>\n",
       "      <td>LECD110</td>\n",
       "      <td>03-06</td>\n",
       "      <td>1</td>\n",
       "      <td>2</td>\n",
       "      <td>Linha</td>\n",
       "      <td>Dia Útil</td>\n",
       "      <td>100% SMTR</td>\n",
       "    </tr>\n",
       "    <tr>\n",
       "      <th>42</th>\n",
       "      <td>LECD110</td>\n",
       "      <td>06-09</td>\n",
       "      <td>4</td>\n",
       "      <td>7</td>\n",
       "      <td>Linha</td>\n",
       "      <td>Dia Útil</td>\n",
       "      <td>100% SMTR</td>\n",
       "    </tr>\n",
       "    <tr>\n",
       "      <th>43</th>\n",
       "      <td>LECD110</td>\n",
       "      <td>09-12</td>\n",
       "      <td>4</td>\n",
       "      <td>4</td>\n",
       "      <td>Linha</td>\n",
       "      <td>Dia Útil</td>\n",
       "      <td>100% SMTR</td>\n",
       "    </tr>\n",
       "    <tr>\n",
       "      <th>44</th>\n",
       "      <td>LECD110</td>\n",
       "      <td>12-15</td>\n",
       "      <td>3</td>\n",
       "      <td>3</td>\n",
       "      <td>Linha</td>\n",
       "      <td>Dia Útil</td>\n",
       "      <td>100% SMTR</td>\n",
       "    </tr>\n",
       "    <tr>\n",
       "      <th>45</th>\n",
       "      <td>SN309</td>\n",
       "      <td>00-03</td>\n",
       "      <td>20</td>\n",
       "      <td>19</td>\n",
       "      <td>Linha</td>\n",
       "      <td>Dia Útil</td>\n",
       "      <td>100% SMTR</td>\n",
       "    </tr>\n",
       "    <tr>\n",
       "      <th>46</th>\n",
       "      <td>SN309</td>\n",
       "      <td>03-06</td>\n",
       "      <td>9</td>\n",
       "      <td>9</td>\n",
       "      <td>Linha</td>\n",
       "      <td>Dia Útil</td>\n",
       "      <td>100% SMTR</td>\n",
       "    </tr>\n",
       "    <tr>\n",
       "      <th>47</th>\n",
       "      <td>SN538</td>\n",
       "      <td>00-03</td>\n",
       "      <td>6</td>\n",
       "      <td>6</td>\n",
       "      <td>Linha</td>\n",
       "      <td>Dia Útil</td>\n",
       "      <td>100% SMTR</td>\n",
       "    </tr>\n",
       "    <tr>\n",
       "      <th>48</th>\n",
       "      <td>SN538</td>\n",
       "      <td>03-06</td>\n",
       "      <td>3</td>\n",
       "      <td>3</td>\n",
       "      <td>Linha</td>\n",
       "      <td>Dia Útil</td>\n",
       "      <td>100% SMTR</td>\n",
       "    </tr>\n",
       "    <tr>\n",
       "      <th>49</th>\n",
       "      <td>SP315</td>\n",
       "      <td>06-09</td>\n",
       "      <td>3</td>\n",
       "      <td>10</td>\n",
       "      <td>Serviço</td>\n",
       "      <td>Dia Útil</td>\n",
       "      <td>100% SMTR</td>\n",
       "    </tr>\n",
       "    <tr>\n",
       "      <th>50</th>\n",
       "      <td>SV112</td>\n",
       "      <td>03-06</td>\n",
       "      <td>9</td>\n",
       "      <td>10</td>\n",
       "      <td>Linha</td>\n",
       "      <td>Dia Útil</td>\n",
       "      <td>100% SMTR</td>\n",
       "    </tr>\n",
       "    <tr>\n",
       "      <th>51</th>\n",
       "      <td>SV112</td>\n",
       "      <td>06-09</td>\n",
       "      <td>27</td>\n",
       "      <td>35</td>\n",
       "      <td>Linha</td>\n",
       "      <td>Dia Útil</td>\n",
       "      <td>100% SMTR</td>\n",
       "    </tr>\n",
       "    <tr>\n",
       "      <th>52</th>\n",
       "      <td>SV112</td>\n",
       "      <td>09-12</td>\n",
       "      <td>19</td>\n",
       "      <td>20</td>\n",
       "      <td>Linha</td>\n",
       "      <td>Dia Útil</td>\n",
       "      <td>100% SMTR</td>\n",
       "    </tr>\n",
       "    <tr>\n",
       "      <th>53</th>\n",
       "      <td>SV112</td>\n",
       "      <td>12-15</td>\n",
       "      <td>14</td>\n",
       "      <td>18</td>\n",
       "      <td>Linha</td>\n",
       "      <td>Dia Útil</td>\n",
       "      <td>100% SMTR</td>\n",
       "    </tr>\n",
       "  </tbody>\n",
       "</table>\n",
       "</div>"
      ],
      "text/plain": [
       "      Linha Faixa_Horaria  Executado Programado Tipo Linha  Tipo Dia  \\\n",
       "0       108         03-06         12         15      Linha  Dia Útil   \n",
       "1       108         06-09         36         42      Linha  Dia Útil   \n",
       "2       108         09-12         32         37      Linha  Dia Útil   \n",
       "3       108         12-15         27         32      Linha  Dia Útil   \n",
       "4       110         03-06         15         16      Linha  Dia Útil   \n",
       "5       110         06-09         43         52      Linha  Dia Útil   \n",
       "6       110         09-12         34         35      Linha  Dia Útil   \n",
       "7       110         12-15         30         35      Linha  Dia Útil   \n",
       "8       112         03-06         15         16      Linha  Dia Útil   \n",
       "9       112         06-09         35         60      Linha  Dia Útil   \n",
       "10      112         09-12         36         40      Linha  Dia Útil   \n",
       "11      112         12-15         27         30      Linha  Dia Útil   \n",
       "12      163         03-06          6          6      Linha  Dia Útil   \n",
       "13      163         06-09         21         32      Linha  Dia Útil   \n",
       "14      163         09-12         19         19      Linha  Dia Útil   \n",
       "15      163         12-15         13         16      Linha  Dia Útil   \n",
       "16      222         03-06          1          1      Linha  Dia Útil   \n",
       "17      222         06-09          4          5      Linha  Dia Útil   \n",
       "18      222         09-12          4          4      Linha  Dia Útil   \n",
       "19      222         12-15          3          3      Linha  Dia Útil   \n",
       "20      309         03-06         33         37      Linha  Dia Útil   \n",
       "21      309         06-09         62         72      Linha  Dia Útil   \n",
       "22      309         09-12         53         56      Linha  Dia Útil   \n",
       "23      309         12-15         48         46      Linha  Dia Útil   \n",
       "24      315         03-06         27         29      Linha  Dia Útil   \n",
       "25      315         06-09         30         48      Linha  Dia Útil   \n",
       "26      315         09-12         25         29      Linha  Dia Útil   \n",
       "27      315         12-15         27         29      Linha  Dia Útil   \n",
       "28      444         03-06          1          1    Serviço  Dia Útil   \n",
       "29      460         03-06         48         50      Linha  Dia Útil   \n",
       "30      460         06-09         82         94      Linha  Dia Útil   \n",
       "31      460         09-12         71         74      Linha  Dia Útil   \n",
       "32      460         12-15         51         62      Linha  Dia Útil   \n",
       "33      463         03-06         20         22      Linha  Dia Útil   \n",
       "34      463         06-09         43         60      Linha  Dia Útil   \n",
       "35      463         09-12         28         28      Linha  Dia Útil   \n",
       "36      463         12-15         25         24      Linha  Dia Útil   \n",
       "37      538         03-06          5          5      Linha  Dia Útil   \n",
       "38      538         06-09         15         24      Linha  Dia Útil   \n",
       "39      538         09-12         14         17      Linha  Dia Útil   \n",
       "40      538         12-15         11         14      Linha  Dia Útil   \n",
       "41  LECD110         03-06          1          2      Linha  Dia Útil   \n",
       "42  LECD110         06-09          4          7      Linha  Dia Útil   \n",
       "43  LECD110         09-12          4          4      Linha  Dia Útil   \n",
       "44  LECD110         12-15          3          3      Linha  Dia Útil   \n",
       "45    SN309         00-03         20         19      Linha  Dia Útil   \n",
       "46    SN309         03-06          9          9      Linha  Dia Útil   \n",
       "47    SN538         00-03          6          6      Linha  Dia Útil   \n",
       "48    SN538         03-06          3          3      Linha  Dia Útil   \n",
       "49    SP315         06-09          3         10    Serviço  Dia Útil   \n",
       "50    SV112         03-06          9         10      Linha  Dia Útil   \n",
       "51    SV112         06-09         27         35      Linha  Dia Útil   \n",
       "52    SV112         09-12         19         20      Linha  Dia Útil   \n",
       "53    SV112         12-15         14         18      Linha  Dia Útil   \n",
       "\n",
       "   Tipo de Programação  \n",
       "0            100% SMTR  \n",
       "1            100% SMTR  \n",
       "2            100% SMTR  \n",
       "3            100% SMTR  \n",
       "4            100% SMTR  \n",
       "5            100% SMTR  \n",
       "6            100% SMTR  \n",
       "7            100% SMTR  \n",
       "8            100% SMTR  \n",
       "9            100% SMTR  \n",
       "10           100% SMTR  \n",
       "11           100% SMTR  \n",
       "12           100% SMTR  \n",
       "13           100% SMTR  \n",
       "14           100% SMTR  \n",
       "15           100% SMTR  \n",
       "16           100% SMTR  \n",
       "17           100% SMTR  \n",
       "18           100% SMTR  \n",
       "19           100% SMTR  \n",
       "20           100% SMTR  \n",
       "21           100% SMTR  \n",
       "22           100% SMTR  \n",
       "23           100% SMTR  \n",
       "24           100% SMTR  \n",
       "25           100% SMTR  \n",
       "26           100% SMTR  \n",
       "27           100% SMTR  \n",
       "28           100% SMTR  \n",
       "29           100% SMTR  \n",
       "30           100% SMTR  \n",
       "31           100% SMTR  \n",
       "32           100% SMTR  \n",
       "33           100% SMTR  \n",
       "34           100% SMTR  \n",
       "35           100% SMTR  \n",
       "36           100% SMTR  \n",
       "37           100% SMTR  \n",
       "38           100% SMTR  \n",
       "39           100% SMTR  \n",
       "40           100% SMTR  \n",
       "41           100% SMTR  \n",
       "42           100% SMTR  \n",
       "43           100% SMTR  \n",
       "44           100% SMTR  \n",
       "45           100% SMTR  \n",
       "46           100% SMTR  \n",
       "47           100% SMTR  \n",
       "48           100% SMTR  \n",
       "49           100% SMTR  \n",
       "50           100% SMTR  \n",
       "51           100% SMTR  \n",
       "52           100% SMTR  \n",
       "53           100% SMTR  "
      ]
     },
     "execution_count": 133,
     "metadata": {},
     "output_type": "execute_result"
    }
   ],
   "source": [
    "comparativo"
   ]
  },
  {
   "cell_type": "code",
   "execution_count": 134,
   "id": "8887b41c-4f94-4224-b535-d04c75c209ba",
   "metadata": {},
   "outputs": [],
   "source": [
    "comparativo['Programado'] = (\n",
    "    comparativo['Programado']\n",
    "    .str.replace(',', '.', regex=False)                # Troca vírgula por ponto\n",
    "    .astype(float)                                      # Converte para float\n",
    "    .fillna(0)\n",
    "    .astype(int)                                        # Depois para int\n",
    ")"
   ]
  },
  {
   "cell_type": "code",
   "execution_count": 135,
   "id": "2f5f0881-9f45-4433-954a-d965c4606038",
   "metadata": {},
   "outputs": [],
   "source": [
    "#comparativo['Programado'] = comparativo['Programado'].fillna(0).astype(int)"
   ]
  },
  {
   "cell_type": "code",
   "execution_count": 136,
   "id": "7089bf73-5649-4e73-bd0c-41165f642e8c",
   "metadata": {},
   "outputs": [],
   "source": [
    "comparativo['% Execução'] = (comparativo['Executado'] / comparativo['Programado'].replace(0, 1)) * 100\n",
    "comparativo['% Execução'] = comparativo['% Execução'].round(1)"
   ]
  },
  {
   "cell_type": "code",
   "execution_count": 137,
   "id": "52bf2b63-6146-47da-a6d3-207742aad3bf",
   "metadata": {},
   "outputs": [],
   "source": [
    "comparativo.loc[comparativo['Programado'] == 0, '% Execução'] = 0"
   ]
  },
  {
   "cell_type": "code",
   "execution_count": 138,
   "id": "0ca39f9c-cee4-4aa8-9bf2-566016e1fe6e",
   "metadata": {},
   "outputs": [],
   "source": [
    "del comparativo ['Tipo Linha']"
   ]
  },
  {
   "cell_type": "code",
   "execution_count": 139,
   "id": "8b9b91ed-2eee-4c89-858c-1edf914dc1eb",
   "metadata": {},
   "outputs": [],
   "source": [
    "saida = \"comparativo_programado_executado_com_nucleo.csv\""
   ]
  },
  {
   "cell_type": "code",
   "execution_count": 140,
   "id": "750c4586-1a07-42a7-bd61-7d908dfd181e",
   "metadata": {},
   "outputs": [],
   "source": [
    "df_merged = pd.merge(\n",
    "    comparativo,\n",
    "    linhas[['Linha', 'Núcleo']],  # Mantém só a coluna necessária do núcleo\n",
    "    on='Linha',\n",
    "    how='left'  # Faz um left join para manter todas as linhas do comparativo\n",
    ")"
   ]
  },
  {
   "cell_type": "code",
   "execution_count": 141,
   "id": "692a0f01-d4d1-4adb-a4d9-841b979c01dc",
   "metadata": {},
   "outputs": [],
   "source": [
    "#df_merged['% Execução'] = df_merged['% Execução'] / 100"
   ]
  },
  {
   "cell_type": "code",
   "execution_count": 142,
   "id": "ea2877ac-dc16-49a8-8cdc-addc2a30753a",
   "metadata": {},
   "outputs": [],
   "source": [
    "#df_merged['% Execução'] = df_merged['% Execução'].apply(lambda x: f\"{x:.1%}\")"
   ]
  },
  {
   "cell_type": "code",
   "execution_count": 143,
   "id": "623059a6-cc55-40f9-87b6-e501d446c681",
   "metadata": {},
   "outputs": [
    {
     "data": {
      "text/html": [
       "<div>\n",
       "<style scoped>\n",
       "    .dataframe tbody tr th:only-of-type {\n",
       "        vertical-align: middle;\n",
       "    }\n",
       "\n",
       "    .dataframe tbody tr th {\n",
       "        vertical-align: top;\n",
       "    }\n",
       "\n",
       "    .dataframe thead th {\n",
       "        text-align: right;\n",
       "    }\n",
       "</style>\n",
       "<table border=\"1\" class=\"dataframe\">\n",
       "  <thead>\n",
       "    <tr style=\"text-align: right;\">\n",
       "      <th></th>\n",
       "      <th>Linha</th>\n",
       "      <th>Faixa_Horaria</th>\n",
       "      <th>Executado</th>\n",
       "      <th>Programado</th>\n",
       "      <th>Tipo Dia</th>\n",
       "      <th>Tipo de Programação</th>\n",
       "      <th>% Execução</th>\n",
       "      <th>Núcleo</th>\n",
       "    </tr>\n",
       "  </thead>\n",
       "  <tbody>\n",
       "    <tr>\n",
       "      <th>0</th>\n",
       "      <td>108</td>\n",
       "      <td>03-06</td>\n",
       "      <td>12</td>\n",
       "      <td>15</td>\n",
       "      <td>Dia Útil</td>\n",
       "      <td>100% SMTR</td>\n",
       "      <td>80.0</td>\n",
       "      <td>Gentileza</td>\n",
       "    </tr>\n",
       "    <tr>\n",
       "      <th>1</th>\n",
       "      <td>108</td>\n",
       "      <td>06-09</td>\n",
       "      <td>36</td>\n",
       "      <td>42</td>\n",
       "      <td>Dia Útil</td>\n",
       "      <td>100% SMTR</td>\n",
       "      <td>85.7</td>\n",
       "      <td>Gentileza</td>\n",
       "    </tr>\n",
       "    <tr>\n",
       "      <th>2</th>\n",
       "      <td>108</td>\n",
       "      <td>09-12</td>\n",
       "      <td>32</td>\n",
       "      <td>37</td>\n",
       "      <td>Dia Útil</td>\n",
       "      <td>100% SMTR</td>\n",
       "      <td>86.5</td>\n",
       "      <td>Gentileza</td>\n",
       "    </tr>\n",
       "    <tr>\n",
       "      <th>3</th>\n",
       "      <td>108</td>\n",
       "      <td>12-15</td>\n",
       "      <td>27</td>\n",
       "      <td>32</td>\n",
       "      <td>Dia Útil</td>\n",
       "      <td>100% SMTR</td>\n",
       "      <td>84.4</td>\n",
       "      <td>Gentileza</td>\n",
       "    </tr>\n",
       "    <tr>\n",
       "      <th>4</th>\n",
       "      <td>110</td>\n",
       "      <td>03-06</td>\n",
       "      <td>15</td>\n",
       "      <td>16</td>\n",
       "      <td>Dia Útil</td>\n",
       "      <td>100% SMTR</td>\n",
       "      <td>93.8</td>\n",
       "      <td>Gentileza</td>\n",
       "    </tr>\n",
       "    <tr>\n",
       "      <th>5</th>\n",
       "      <td>110</td>\n",
       "      <td>06-09</td>\n",
       "      <td>43</td>\n",
       "      <td>52</td>\n",
       "      <td>Dia Útil</td>\n",
       "      <td>100% SMTR</td>\n",
       "      <td>82.7</td>\n",
       "      <td>Gentileza</td>\n",
       "    </tr>\n",
       "    <tr>\n",
       "      <th>6</th>\n",
       "      <td>110</td>\n",
       "      <td>09-12</td>\n",
       "      <td>34</td>\n",
       "      <td>35</td>\n",
       "      <td>Dia Útil</td>\n",
       "      <td>100% SMTR</td>\n",
       "      <td>97.1</td>\n",
       "      <td>Gentileza</td>\n",
       "    </tr>\n",
       "    <tr>\n",
       "      <th>7</th>\n",
       "      <td>110</td>\n",
       "      <td>12-15</td>\n",
       "      <td>30</td>\n",
       "      <td>35</td>\n",
       "      <td>Dia Útil</td>\n",
       "      <td>100% SMTR</td>\n",
       "      <td>85.7</td>\n",
       "      <td>Gentileza</td>\n",
       "    </tr>\n",
       "    <tr>\n",
       "      <th>8</th>\n",
       "      <td>112</td>\n",
       "      <td>03-06</td>\n",
       "      <td>15</td>\n",
       "      <td>16</td>\n",
       "      <td>Dia Útil</td>\n",
       "      <td>100% SMTR</td>\n",
       "      <td>93.8</td>\n",
       "      <td>Gentileza</td>\n",
       "    </tr>\n",
       "    <tr>\n",
       "      <th>9</th>\n",
       "      <td>112</td>\n",
       "      <td>06-09</td>\n",
       "      <td>35</td>\n",
       "      <td>60</td>\n",
       "      <td>Dia Útil</td>\n",
       "      <td>100% SMTR</td>\n",
       "      <td>58.3</td>\n",
       "      <td>Gentileza</td>\n",
       "    </tr>\n",
       "    <tr>\n",
       "      <th>10</th>\n",
       "      <td>112</td>\n",
       "      <td>09-12</td>\n",
       "      <td>36</td>\n",
       "      <td>40</td>\n",
       "      <td>Dia Útil</td>\n",
       "      <td>100% SMTR</td>\n",
       "      <td>90.0</td>\n",
       "      <td>Gentileza</td>\n",
       "    </tr>\n",
       "    <tr>\n",
       "      <th>11</th>\n",
       "      <td>112</td>\n",
       "      <td>12-15</td>\n",
       "      <td>27</td>\n",
       "      <td>30</td>\n",
       "      <td>Dia Útil</td>\n",
       "      <td>100% SMTR</td>\n",
       "      <td>90.0</td>\n",
       "      <td>Gentileza</td>\n",
       "    </tr>\n",
       "    <tr>\n",
       "      <th>12</th>\n",
       "      <td>163</td>\n",
       "      <td>03-06</td>\n",
       "      <td>6</td>\n",
       "      <td>6</td>\n",
       "      <td>Dia Útil</td>\n",
       "      <td>100% SMTR</td>\n",
       "      <td>100.0</td>\n",
       "      <td>Gentileza</td>\n",
       "    </tr>\n",
       "    <tr>\n",
       "      <th>13</th>\n",
       "      <td>163</td>\n",
       "      <td>06-09</td>\n",
       "      <td>21</td>\n",
       "      <td>32</td>\n",
       "      <td>Dia Útil</td>\n",
       "      <td>100% SMTR</td>\n",
       "      <td>65.6</td>\n",
       "      <td>Gentileza</td>\n",
       "    </tr>\n",
       "    <tr>\n",
       "      <th>14</th>\n",
       "      <td>163</td>\n",
       "      <td>09-12</td>\n",
       "      <td>19</td>\n",
       "      <td>19</td>\n",
       "      <td>Dia Útil</td>\n",
       "      <td>100% SMTR</td>\n",
       "      <td>100.0</td>\n",
       "      <td>Gentileza</td>\n",
       "    </tr>\n",
       "    <tr>\n",
       "      <th>15</th>\n",
       "      <td>163</td>\n",
       "      <td>12-15</td>\n",
       "      <td>13</td>\n",
       "      <td>16</td>\n",
       "      <td>Dia Útil</td>\n",
       "      <td>100% SMTR</td>\n",
       "      <td>81.2</td>\n",
       "      <td>Gentileza</td>\n",
       "    </tr>\n",
       "    <tr>\n",
       "      <th>16</th>\n",
       "      <td>222</td>\n",
       "      <td>03-06</td>\n",
       "      <td>1</td>\n",
       "      <td>1</td>\n",
       "      <td>Dia Útil</td>\n",
       "      <td>100% SMTR</td>\n",
       "      <td>100.0</td>\n",
       "      <td>Gentileza</td>\n",
       "    </tr>\n",
       "    <tr>\n",
       "      <th>17</th>\n",
       "      <td>222</td>\n",
       "      <td>06-09</td>\n",
       "      <td>4</td>\n",
       "      <td>5</td>\n",
       "      <td>Dia Útil</td>\n",
       "      <td>100% SMTR</td>\n",
       "      <td>80.0</td>\n",
       "      <td>Gentileza</td>\n",
       "    </tr>\n",
       "    <tr>\n",
       "      <th>18</th>\n",
       "      <td>222</td>\n",
       "      <td>09-12</td>\n",
       "      <td>4</td>\n",
       "      <td>4</td>\n",
       "      <td>Dia Útil</td>\n",
       "      <td>100% SMTR</td>\n",
       "      <td>100.0</td>\n",
       "      <td>Gentileza</td>\n",
       "    </tr>\n",
       "    <tr>\n",
       "      <th>19</th>\n",
       "      <td>222</td>\n",
       "      <td>12-15</td>\n",
       "      <td>3</td>\n",
       "      <td>3</td>\n",
       "      <td>Dia Útil</td>\n",
       "      <td>100% SMTR</td>\n",
       "      <td>100.0</td>\n",
       "      <td>Gentileza</td>\n",
       "    </tr>\n",
       "    <tr>\n",
       "      <th>20</th>\n",
       "      <td>309</td>\n",
       "      <td>03-06</td>\n",
       "      <td>33</td>\n",
       "      <td>37</td>\n",
       "      <td>Dia Útil</td>\n",
       "      <td>100% SMTR</td>\n",
       "      <td>89.2</td>\n",
       "      <td>Central</td>\n",
       "    </tr>\n",
       "    <tr>\n",
       "      <th>21</th>\n",
       "      <td>309</td>\n",
       "      <td>06-09</td>\n",
       "      <td>62</td>\n",
       "      <td>72</td>\n",
       "      <td>Dia Útil</td>\n",
       "      <td>100% SMTR</td>\n",
       "      <td>86.1</td>\n",
       "      <td>Central</td>\n",
       "    </tr>\n",
       "    <tr>\n",
       "      <th>22</th>\n",
       "      <td>309</td>\n",
       "      <td>09-12</td>\n",
       "      <td>53</td>\n",
       "      <td>56</td>\n",
       "      <td>Dia Útil</td>\n",
       "      <td>100% SMTR</td>\n",
       "      <td>94.6</td>\n",
       "      <td>Central</td>\n",
       "    </tr>\n",
       "    <tr>\n",
       "      <th>23</th>\n",
       "      <td>309</td>\n",
       "      <td>12-15</td>\n",
       "      <td>48</td>\n",
       "      <td>46</td>\n",
       "      <td>Dia Útil</td>\n",
       "      <td>100% SMTR</td>\n",
       "      <td>104.3</td>\n",
       "      <td>Central</td>\n",
       "    </tr>\n",
       "    <tr>\n",
       "      <th>24</th>\n",
       "      <td>315</td>\n",
       "      <td>03-06</td>\n",
       "      <td>27</td>\n",
       "      <td>29</td>\n",
       "      <td>Dia Útil</td>\n",
       "      <td>100% SMTR</td>\n",
       "      <td>93.1</td>\n",
       "      <td>Central</td>\n",
       "    </tr>\n",
       "    <tr>\n",
       "      <th>25</th>\n",
       "      <td>315</td>\n",
       "      <td>06-09</td>\n",
       "      <td>30</td>\n",
       "      <td>48</td>\n",
       "      <td>Dia Útil</td>\n",
       "      <td>100% SMTR</td>\n",
       "      <td>62.5</td>\n",
       "      <td>Central</td>\n",
       "    </tr>\n",
       "    <tr>\n",
       "      <th>26</th>\n",
       "      <td>315</td>\n",
       "      <td>09-12</td>\n",
       "      <td>25</td>\n",
       "      <td>29</td>\n",
       "      <td>Dia Útil</td>\n",
       "      <td>100% SMTR</td>\n",
       "      <td>86.2</td>\n",
       "      <td>Central</td>\n",
       "    </tr>\n",
       "    <tr>\n",
       "      <th>27</th>\n",
       "      <td>315</td>\n",
       "      <td>12-15</td>\n",
       "      <td>27</td>\n",
       "      <td>29</td>\n",
       "      <td>Dia Útil</td>\n",
       "      <td>100% SMTR</td>\n",
       "      <td>93.1</td>\n",
       "      <td>Central</td>\n",
       "    </tr>\n",
       "    <tr>\n",
       "      <th>28</th>\n",
       "      <td>444</td>\n",
       "      <td>03-06</td>\n",
       "      <td>1</td>\n",
       "      <td>1</td>\n",
       "      <td>Dia Útil</td>\n",
       "      <td>100% SMTR</td>\n",
       "      <td>100.0</td>\n",
       "      <td>Gentileza</td>\n",
       "    </tr>\n",
       "    <tr>\n",
       "      <th>29</th>\n",
       "      <td>460</td>\n",
       "      <td>03-06</td>\n",
       "      <td>48</td>\n",
       "      <td>50</td>\n",
       "      <td>Dia Útil</td>\n",
       "      <td>100% SMTR</td>\n",
       "      <td>96.0</td>\n",
       "      <td>São Cristóvão</td>\n",
       "    </tr>\n",
       "    <tr>\n",
       "      <th>30</th>\n",
       "      <td>460</td>\n",
       "      <td>06-09</td>\n",
       "      <td>82</td>\n",
       "      <td>94</td>\n",
       "      <td>Dia Útil</td>\n",
       "      <td>100% SMTR</td>\n",
       "      <td>87.2</td>\n",
       "      <td>São Cristóvão</td>\n",
       "    </tr>\n",
       "    <tr>\n",
       "      <th>31</th>\n",
       "      <td>460</td>\n",
       "      <td>09-12</td>\n",
       "      <td>71</td>\n",
       "      <td>74</td>\n",
       "      <td>Dia Útil</td>\n",
       "      <td>100% SMTR</td>\n",
       "      <td>95.9</td>\n",
       "      <td>São Cristóvão</td>\n",
       "    </tr>\n",
       "    <tr>\n",
       "      <th>32</th>\n",
       "      <td>460</td>\n",
       "      <td>12-15</td>\n",
       "      <td>51</td>\n",
       "      <td>62</td>\n",
       "      <td>Dia Útil</td>\n",
       "      <td>100% SMTR</td>\n",
       "      <td>82.3</td>\n",
       "      <td>São Cristóvão</td>\n",
       "    </tr>\n",
       "    <tr>\n",
       "      <th>33</th>\n",
       "      <td>463</td>\n",
       "      <td>03-06</td>\n",
       "      <td>20</td>\n",
       "      <td>22</td>\n",
       "      <td>Dia Útil</td>\n",
       "      <td>100% SMTR</td>\n",
       "      <td>90.9</td>\n",
       "      <td>São Cristóvão</td>\n",
       "    </tr>\n",
       "    <tr>\n",
       "      <th>34</th>\n",
       "      <td>463</td>\n",
       "      <td>06-09</td>\n",
       "      <td>43</td>\n",
       "      <td>60</td>\n",
       "      <td>Dia Útil</td>\n",
       "      <td>100% SMTR</td>\n",
       "      <td>71.7</td>\n",
       "      <td>São Cristóvão</td>\n",
       "    </tr>\n",
       "    <tr>\n",
       "      <th>35</th>\n",
       "      <td>463</td>\n",
       "      <td>09-12</td>\n",
       "      <td>28</td>\n",
       "      <td>28</td>\n",
       "      <td>Dia Útil</td>\n",
       "      <td>100% SMTR</td>\n",
       "      <td>100.0</td>\n",
       "      <td>São Cristóvão</td>\n",
       "    </tr>\n",
       "    <tr>\n",
       "      <th>36</th>\n",
       "      <td>463</td>\n",
       "      <td>12-15</td>\n",
       "      <td>25</td>\n",
       "      <td>24</td>\n",
       "      <td>Dia Útil</td>\n",
       "      <td>100% SMTR</td>\n",
       "      <td>104.2</td>\n",
       "      <td>São Cristóvão</td>\n",
       "    </tr>\n",
       "    <tr>\n",
       "      <th>37</th>\n",
       "      <td>538</td>\n",
       "      <td>03-06</td>\n",
       "      <td>5</td>\n",
       "      <td>5</td>\n",
       "      <td>Dia Útil</td>\n",
       "      <td>100% SMTR</td>\n",
       "      <td>100.0</td>\n",
       "      <td>Central</td>\n",
       "    </tr>\n",
       "    <tr>\n",
       "      <th>38</th>\n",
       "      <td>538</td>\n",
       "      <td>06-09</td>\n",
       "      <td>15</td>\n",
       "      <td>24</td>\n",
       "      <td>Dia Útil</td>\n",
       "      <td>100% SMTR</td>\n",
       "      <td>62.5</td>\n",
       "      <td>Central</td>\n",
       "    </tr>\n",
       "    <tr>\n",
       "      <th>39</th>\n",
       "      <td>538</td>\n",
       "      <td>09-12</td>\n",
       "      <td>14</td>\n",
       "      <td>17</td>\n",
       "      <td>Dia Útil</td>\n",
       "      <td>100% SMTR</td>\n",
       "      <td>82.4</td>\n",
       "      <td>Central</td>\n",
       "    </tr>\n",
       "    <tr>\n",
       "      <th>40</th>\n",
       "      <td>538</td>\n",
       "      <td>12-15</td>\n",
       "      <td>11</td>\n",
       "      <td>14</td>\n",
       "      <td>Dia Útil</td>\n",
       "      <td>100% SMTR</td>\n",
       "      <td>78.6</td>\n",
       "      <td>Central</td>\n",
       "    </tr>\n",
       "    <tr>\n",
       "      <th>41</th>\n",
       "      <td>LECD110</td>\n",
       "      <td>03-06</td>\n",
       "      <td>1</td>\n",
       "      <td>2</td>\n",
       "      <td>Dia Útil</td>\n",
       "      <td>100% SMTR</td>\n",
       "      <td>50.0</td>\n",
       "      <td>Gentileza</td>\n",
       "    </tr>\n",
       "    <tr>\n",
       "      <th>42</th>\n",
       "      <td>LECD110</td>\n",
       "      <td>06-09</td>\n",
       "      <td>4</td>\n",
       "      <td>7</td>\n",
       "      <td>Dia Útil</td>\n",
       "      <td>100% SMTR</td>\n",
       "      <td>57.1</td>\n",
       "      <td>Gentileza</td>\n",
       "    </tr>\n",
       "    <tr>\n",
       "      <th>43</th>\n",
       "      <td>LECD110</td>\n",
       "      <td>09-12</td>\n",
       "      <td>4</td>\n",
       "      <td>4</td>\n",
       "      <td>Dia Útil</td>\n",
       "      <td>100% SMTR</td>\n",
       "      <td>100.0</td>\n",
       "      <td>Gentileza</td>\n",
       "    </tr>\n",
       "    <tr>\n",
       "      <th>44</th>\n",
       "      <td>LECD110</td>\n",
       "      <td>12-15</td>\n",
       "      <td>3</td>\n",
       "      <td>3</td>\n",
       "      <td>Dia Útil</td>\n",
       "      <td>100% SMTR</td>\n",
       "      <td>100.0</td>\n",
       "      <td>Gentileza</td>\n",
       "    </tr>\n",
       "    <tr>\n",
       "      <th>45</th>\n",
       "      <td>SN309</td>\n",
       "      <td>00-03</td>\n",
       "      <td>20</td>\n",
       "      <td>19</td>\n",
       "      <td>Dia Útil</td>\n",
       "      <td>100% SMTR</td>\n",
       "      <td>105.3</td>\n",
       "      <td>Central</td>\n",
       "    </tr>\n",
       "    <tr>\n",
       "      <th>46</th>\n",
       "      <td>SN309</td>\n",
       "      <td>03-06</td>\n",
       "      <td>9</td>\n",
       "      <td>9</td>\n",
       "      <td>Dia Útil</td>\n",
       "      <td>100% SMTR</td>\n",
       "      <td>100.0</td>\n",
       "      <td>Central</td>\n",
       "    </tr>\n",
       "    <tr>\n",
       "      <th>47</th>\n",
       "      <td>SN538</td>\n",
       "      <td>00-03</td>\n",
       "      <td>6</td>\n",
       "      <td>6</td>\n",
       "      <td>Dia Útil</td>\n",
       "      <td>100% SMTR</td>\n",
       "      <td>100.0</td>\n",
       "      <td>Central</td>\n",
       "    </tr>\n",
       "    <tr>\n",
       "      <th>48</th>\n",
       "      <td>SN538</td>\n",
       "      <td>03-06</td>\n",
       "      <td>3</td>\n",
       "      <td>3</td>\n",
       "      <td>Dia Útil</td>\n",
       "      <td>100% SMTR</td>\n",
       "      <td>100.0</td>\n",
       "      <td>Central</td>\n",
       "    </tr>\n",
       "    <tr>\n",
       "      <th>49</th>\n",
       "      <td>SP315</td>\n",
       "      <td>06-09</td>\n",
       "      <td>3</td>\n",
       "      <td>10</td>\n",
       "      <td>Dia Útil</td>\n",
       "      <td>100% SMTR</td>\n",
       "      <td>30.0</td>\n",
       "      <td>Central</td>\n",
       "    </tr>\n",
       "    <tr>\n",
       "      <th>50</th>\n",
       "      <td>SV112</td>\n",
       "      <td>03-06</td>\n",
       "      <td>9</td>\n",
       "      <td>10</td>\n",
       "      <td>Dia Útil</td>\n",
       "      <td>100% SMTR</td>\n",
       "      <td>90.0</td>\n",
       "      <td>Gentileza</td>\n",
       "    </tr>\n",
       "    <tr>\n",
       "      <th>51</th>\n",
       "      <td>SV112</td>\n",
       "      <td>06-09</td>\n",
       "      <td>27</td>\n",
       "      <td>35</td>\n",
       "      <td>Dia Útil</td>\n",
       "      <td>100% SMTR</td>\n",
       "      <td>77.1</td>\n",
       "      <td>Gentileza</td>\n",
       "    </tr>\n",
       "    <tr>\n",
       "      <th>52</th>\n",
       "      <td>SV112</td>\n",
       "      <td>09-12</td>\n",
       "      <td>19</td>\n",
       "      <td>20</td>\n",
       "      <td>Dia Útil</td>\n",
       "      <td>100% SMTR</td>\n",
       "      <td>95.0</td>\n",
       "      <td>Gentileza</td>\n",
       "    </tr>\n",
       "    <tr>\n",
       "      <th>53</th>\n",
       "      <td>SV112</td>\n",
       "      <td>12-15</td>\n",
       "      <td>14</td>\n",
       "      <td>18</td>\n",
       "      <td>Dia Útil</td>\n",
       "      <td>100% SMTR</td>\n",
       "      <td>77.8</td>\n",
       "      <td>Gentileza</td>\n",
       "    </tr>\n",
       "  </tbody>\n",
       "</table>\n",
       "</div>"
      ],
      "text/plain": [
       "      Linha Faixa_Horaria  Executado  Programado  Tipo Dia  \\\n",
       "0       108         03-06         12          15  Dia Útil   \n",
       "1       108         06-09         36          42  Dia Útil   \n",
       "2       108         09-12         32          37  Dia Útil   \n",
       "3       108         12-15         27          32  Dia Útil   \n",
       "4       110         03-06         15          16  Dia Útil   \n",
       "5       110         06-09         43          52  Dia Útil   \n",
       "6       110         09-12         34          35  Dia Útil   \n",
       "7       110         12-15         30          35  Dia Útil   \n",
       "8       112         03-06         15          16  Dia Útil   \n",
       "9       112         06-09         35          60  Dia Útil   \n",
       "10      112         09-12         36          40  Dia Útil   \n",
       "11      112         12-15         27          30  Dia Útil   \n",
       "12      163         03-06          6           6  Dia Útil   \n",
       "13      163         06-09         21          32  Dia Útil   \n",
       "14      163         09-12         19          19  Dia Útil   \n",
       "15      163         12-15         13          16  Dia Útil   \n",
       "16      222         03-06          1           1  Dia Útil   \n",
       "17      222         06-09          4           5  Dia Útil   \n",
       "18      222         09-12          4           4  Dia Útil   \n",
       "19      222         12-15          3           3  Dia Útil   \n",
       "20      309         03-06         33          37  Dia Útil   \n",
       "21      309         06-09         62          72  Dia Útil   \n",
       "22      309         09-12         53          56  Dia Útil   \n",
       "23      309         12-15         48          46  Dia Útil   \n",
       "24      315         03-06         27          29  Dia Útil   \n",
       "25      315         06-09         30          48  Dia Útil   \n",
       "26      315         09-12         25          29  Dia Útil   \n",
       "27      315         12-15         27          29  Dia Útil   \n",
       "28      444         03-06          1           1  Dia Útil   \n",
       "29      460         03-06         48          50  Dia Útil   \n",
       "30      460         06-09         82          94  Dia Útil   \n",
       "31      460         09-12         71          74  Dia Útil   \n",
       "32      460         12-15         51          62  Dia Útil   \n",
       "33      463         03-06         20          22  Dia Útil   \n",
       "34      463         06-09         43          60  Dia Útil   \n",
       "35      463         09-12         28          28  Dia Útil   \n",
       "36      463         12-15         25          24  Dia Útil   \n",
       "37      538         03-06          5           5  Dia Útil   \n",
       "38      538         06-09         15          24  Dia Útil   \n",
       "39      538         09-12         14          17  Dia Útil   \n",
       "40      538         12-15         11          14  Dia Útil   \n",
       "41  LECD110         03-06          1           2  Dia Útil   \n",
       "42  LECD110         06-09          4           7  Dia Útil   \n",
       "43  LECD110         09-12          4           4  Dia Útil   \n",
       "44  LECD110         12-15          3           3  Dia Útil   \n",
       "45    SN309         00-03         20          19  Dia Útil   \n",
       "46    SN309         03-06          9           9  Dia Útil   \n",
       "47    SN538         00-03          6           6  Dia Útil   \n",
       "48    SN538         03-06          3           3  Dia Útil   \n",
       "49    SP315         06-09          3          10  Dia Útil   \n",
       "50    SV112         03-06          9          10  Dia Útil   \n",
       "51    SV112         06-09         27          35  Dia Útil   \n",
       "52    SV112         09-12         19          20  Dia Útil   \n",
       "53    SV112         12-15         14          18  Dia Útil   \n",
       "\n",
       "   Tipo de Programação  % Execução         Núcleo  \n",
       "0            100% SMTR        80.0      Gentileza  \n",
       "1            100% SMTR        85.7      Gentileza  \n",
       "2            100% SMTR        86.5      Gentileza  \n",
       "3            100% SMTR        84.4      Gentileza  \n",
       "4            100% SMTR        93.8      Gentileza  \n",
       "5            100% SMTR        82.7      Gentileza  \n",
       "6            100% SMTR        97.1      Gentileza  \n",
       "7            100% SMTR        85.7      Gentileza  \n",
       "8            100% SMTR        93.8      Gentileza  \n",
       "9            100% SMTR        58.3      Gentileza  \n",
       "10           100% SMTR        90.0      Gentileza  \n",
       "11           100% SMTR        90.0      Gentileza  \n",
       "12           100% SMTR       100.0      Gentileza  \n",
       "13           100% SMTR        65.6      Gentileza  \n",
       "14           100% SMTR       100.0      Gentileza  \n",
       "15           100% SMTR        81.2      Gentileza  \n",
       "16           100% SMTR       100.0      Gentileza  \n",
       "17           100% SMTR        80.0      Gentileza  \n",
       "18           100% SMTR       100.0      Gentileza  \n",
       "19           100% SMTR       100.0      Gentileza  \n",
       "20           100% SMTR        89.2        Central  \n",
       "21           100% SMTR        86.1        Central  \n",
       "22           100% SMTR        94.6        Central  \n",
       "23           100% SMTR       104.3        Central  \n",
       "24           100% SMTR        93.1        Central  \n",
       "25           100% SMTR        62.5        Central  \n",
       "26           100% SMTR        86.2        Central  \n",
       "27           100% SMTR        93.1        Central  \n",
       "28           100% SMTR       100.0      Gentileza  \n",
       "29           100% SMTR        96.0  São Cristóvão  \n",
       "30           100% SMTR        87.2  São Cristóvão  \n",
       "31           100% SMTR        95.9  São Cristóvão  \n",
       "32           100% SMTR        82.3  São Cristóvão  \n",
       "33           100% SMTR        90.9  São Cristóvão  \n",
       "34           100% SMTR        71.7  São Cristóvão  \n",
       "35           100% SMTR       100.0  São Cristóvão  \n",
       "36           100% SMTR       104.2  São Cristóvão  \n",
       "37           100% SMTR       100.0        Central  \n",
       "38           100% SMTR        62.5        Central  \n",
       "39           100% SMTR        82.4        Central  \n",
       "40           100% SMTR        78.6        Central  \n",
       "41           100% SMTR        50.0      Gentileza  \n",
       "42           100% SMTR        57.1      Gentileza  \n",
       "43           100% SMTR       100.0      Gentileza  \n",
       "44           100% SMTR       100.0      Gentileza  \n",
       "45           100% SMTR       105.3        Central  \n",
       "46           100% SMTR       100.0        Central  \n",
       "47           100% SMTR       100.0        Central  \n",
       "48           100% SMTR       100.0        Central  \n",
       "49           100% SMTR        30.0        Central  \n",
       "50           100% SMTR        90.0      Gentileza  \n",
       "51           100% SMTR        77.1      Gentileza  \n",
       "52           100% SMTR        95.0      Gentileza  \n",
       "53           100% SMTR        77.8      Gentileza  "
      ]
     },
     "execution_count": 143,
     "metadata": {},
     "output_type": "execute_result"
    }
   ],
   "source": [
    "df_merged"
   ]
  },
  {
   "cell_type": "code",
   "execution_count": 144,
   "id": "48652489-d6dc-4ac7-a84a-011125f1c751",
   "metadata": {},
   "outputs": [
    {
     "name": "stdout",
     "output_type": "stream",
     "text": [
      "<class 'pandas.core.frame.DataFrame'>\n",
      "RangeIndex: 54 entries, 0 to 53\n",
      "Data columns (total 8 columns):\n",
      " #   Column               Non-Null Count  Dtype  \n",
      "---  ------               --------------  -----  \n",
      " 0   Linha                54 non-null     object \n",
      " 1   Faixa_Horaria        54 non-null     object \n",
      " 2   Executado            54 non-null     int64  \n",
      " 3   Programado           54 non-null     int64  \n",
      " 4   Tipo Dia             54 non-null     object \n",
      " 5   Tipo de Programação  54 non-null     object \n",
      " 6   % Execução           54 non-null     float64\n",
      " 7   Núcleo               54 non-null     object \n",
      "dtypes: float64(1), int64(2), object(5)\n",
      "memory usage: 3.5+ KB\n"
     ]
    }
   ],
   "source": [
    "df_merged.info()"
   ]
  },
  {
   "cell_type": "code",
   "execution_count": 145,
   "id": "5f712b35-0bdd-4154-8ee9-e61cab375ee0",
   "metadata": {},
   "outputs": [],
   "source": [
    "faixa_grafico = df_merged.loc[df_merged['Faixa_Horaria'] == '06-09']"
   ]
  },
  {
   "cell_type": "code",
   "execution_count": 146,
   "id": "abf5015e-5c88-44d8-93ed-5daf0e93d12a",
   "metadata": {},
   "outputs": [
    {
     "data": {
      "text/html": [
       "<div>\n",
       "<style scoped>\n",
       "    .dataframe tbody tr th:only-of-type {\n",
       "        vertical-align: middle;\n",
       "    }\n",
       "\n",
       "    .dataframe tbody tr th {\n",
       "        vertical-align: top;\n",
       "    }\n",
       "\n",
       "    .dataframe thead th {\n",
       "        text-align: right;\n",
       "    }\n",
       "</style>\n",
       "<table border=\"1\" class=\"dataframe\">\n",
       "  <thead>\n",
       "    <tr style=\"text-align: right;\">\n",
       "      <th></th>\n",
       "      <th>Linha</th>\n",
       "      <th>Faixa_Horaria</th>\n",
       "      <th>Executado</th>\n",
       "      <th>Programado</th>\n",
       "      <th>Tipo Dia</th>\n",
       "      <th>Tipo de Programação</th>\n",
       "      <th>% Execução</th>\n",
       "      <th>Núcleo</th>\n",
       "    </tr>\n",
       "  </thead>\n",
       "  <tbody>\n",
       "    <tr>\n",
       "      <th>1</th>\n",
       "      <td>108</td>\n",
       "      <td>06-09</td>\n",
       "      <td>36</td>\n",
       "      <td>42</td>\n",
       "      <td>Dia Útil</td>\n",
       "      <td>100% SMTR</td>\n",
       "      <td>85.7</td>\n",
       "      <td>Gentileza</td>\n",
       "    </tr>\n",
       "    <tr>\n",
       "      <th>5</th>\n",
       "      <td>110</td>\n",
       "      <td>06-09</td>\n",
       "      <td>43</td>\n",
       "      <td>52</td>\n",
       "      <td>Dia Útil</td>\n",
       "      <td>100% SMTR</td>\n",
       "      <td>82.7</td>\n",
       "      <td>Gentileza</td>\n",
       "    </tr>\n",
       "    <tr>\n",
       "      <th>9</th>\n",
       "      <td>112</td>\n",
       "      <td>06-09</td>\n",
       "      <td>35</td>\n",
       "      <td>60</td>\n",
       "      <td>Dia Útil</td>\n",
       "      <td>100% SMTR</td>\n",
       "      <td>58.3</td>\n",
       "      <td>Gentileza</td>\n",
       "    </tr>\n",
       "    <tr>\n",
       "      <th>13</th>\n",
       "      <td>163</td>\n",
       "      <td>06-09</td>\n",
       "      <td>21</td>\n",
       "      <td>32</td>\n",
       "      <td>Dia Útil</td>\n",
       "      <td>100% SMTR</td>\n",
       "      <td>65.6</td>\n",
       "      <td>Gentileza</td>\n",
       "    </tr>\n",
       "    <tr>\n",
       "      <th>17</th>\n",
       "      <td>222</td>\n",
       "      <td>06-09</td>\n",
       "      <td>4</td>\n",
       "      <td>5</td>\n",
       "      <td>Dia Útil</td>\n",
       "      <td>100% SMTR</td>\n",
       "      <td>80.0</td>\n",
       "      <td>Gentileza</td>\n",
       "    </tr>\n",
       "    <tr>\n",
       "      <th>21</th>\n",
       "      <td>309</td>\n",
       "      <td>06-09</td>\n",
       "      <td>62</td>\n",
       "      <td>72</td>\n",
       "      <td>Dia Útil</td>\n",
       "      <td>100% SMTR</td>\n",
       "      <td>86.1</td>\n",
       "      <td>Central</td>\n",
       "    </tr>\n",
       "    <tr>\n",
       "      <th>25</th>\n",
       "      <td>315</td>\n",
       "      <td>06-09</td>\n",
       "      <td>30</td>\n",
       "      <td>48</td>\n",
       "      <td>Dia Útil</td>\n",
       "      <td>100% SMTR</td>\n",
       "      <td>62.5</td>\n",
       "      <td>Central</td>\n",
       "    </tr>\n",
       "    <tr>\n",
       "      <th>30</th>\n",
       "      <td>460</td>\n",
       "      <td>06-09</td>\n",
       "      <td>82</td>\n",
       "      <td>94</td>\n",
       "      <td>Dia Útil</td>\n",
       "      <td>100% SMTR</td>\n",
       "      <td>87.2</td>\n",
       "      <td>São Cristóvão</td>\n",
       "    </tr>\n",
       "    <tr>\n",
       "      <th>34</th>\n",
       "      <td>463</td>\n",
       "      <td>06-09</td>\n",
       "      <td>43</td>\n",
       "      <td>60</td>\n",
       "      <td>Dia Útil</td>\n",
       "      <td>100% SMTR</td>\n",
       "      <td>71.7</td>\n",
       "      <td>São Cristóvão</td>\n",
       "    </tr>\n",
       "    <tr>\n",
       "      <th>38</th>\n",
       "      <td>538</td>\n",
       "      <td>06-09</td>\n",
       "      <td>15</td>\n",
       "      <td>24</td>\n",
       "      <td>Dia Útil</td>\n",
       "      <td>100% SMTR</td>\n",
       "      <td>62.5</td>\n",
       "      <td>Central</td>\n",
       "    </tr>\n",
       "    <tr>\n",
       "      <th>42</th>\n",
       "      <td>LECD110</td>\n",
       "      <td>06-09</td>\n",
       "      <td>4</td>\n",
       "      <td>7</td>\n",
       "      <td>Dia Útil</td>\n",
       "      <td>100% SMTR</td>\n",
       "      <td>57.1</td>\n",
       "      <td>Gentileza</td>\n",
       "    </tr>\n",
       "    <tr>\n",
       "      <th>49</th>\n",
       "      <td>SP315</td>\n",
       "      <td>06-09</td>\n",
       "      <td>3</td>\n",
       "      <td>10</td>\n",
       "      <td>Dia Útil</td>\n",
       "      <td>100% SMTR</td>\n",
       "      <td>30.0</td>\n",
       "      <td>Central</td>\n",
       "    </tr>\n",
       "    <tr>\n",
       "      <th>51</th>\n",
       "      <td>SV112</td>\n",
       "      <td>06-09</td>\n",
       "      <td>27</td>\n",
       "      <td>35</td>\n",
       "      <td>Dia Útil</td>\n",
       "      <td>100% SMTR</td>\n",
       "      <td>77.1</td>\n",
       "      <td>Gentileza</td>\n",
       "    </tr>\n",
       "  </tbody>\n",
       "</table>\n",
       "</div>"
      ],
      "text/plain": [
       "      Linha Faixa_Horaria  Executado  Programado  Tipo Dia  \\\n",
       "1       108         06-09         36          42  Dia Útil   \n",
       "5       110         06-09         43          52  Dia Útil   \n",
       "9       112         06-09         35          60  Dia Útil   \n",
       "13      163         06-09         21          32  Dia Útil   \n",
       "17      222         06-09          4           5  Dia Útil   \n",
       "21      309         06-09         62          72  Dia Útil   \n",
       "25      315         06-09         30          48  Dia Útil   \n",
       "30      460         06-09         82          94  Dia Útil   \n",
       "34      463         06-09         43          60  Dia Útil   \n",
       "38      538         06-09         15          24  Dia Útil   \n",
       "42  LECD110         06-09          4           7  Dia Útil   \n",
       "49    SP315         06-09          3          10  Dia Útil   \n",
       "51    SV112         06-09         27          35  Dia Útil   \n",
       "\n",
       "   Tipo de Programação  % Execução         Núcleo  \n",
       "1            100% SMTR        85.7      Gentileza  \n",
       "5            100% SMTR        82.7      Gentileza  \n",
       "9            100% SMTR        58.3      Gentileza  \n",
       "13           100% SMTR        65.6      Gentileza  \n",
       "17           100% SMTR        80.0      Gentileza  \n",
       "21           100% SMTR        86.1        Central  \n",
       "25           100% SMTR        62.5        Central  \n",
       "30           100% SMTR        87.2  São Cristóvão  \n",
       "34           100% SMTR        71.7  São Cristóvão  \n",
       "38           100% SMTR        62.5        Central  \n",
       "42           100% SMTR        57.1      Gentileza  \n",
       "49           100% SMTR        30.0        Central  \n",
       "51           100% SMTR        77.1      Gentileza  "
      ]
     },
     "execution_count": 146,
     "metadata": {},
     "output_type": "execute_result"
    }
   ],
   "source": [
    "faixa_grafico"
   ]
  },
  {
   "cell_type": "code",
   "execution_count": 147,
   "id": "315da1ec-8ab9-44ba-9e1a-97a03540f367",
   "metadata": {},
   "outputs": [],
   "source": [
    "faixa_grafico = faixa_grafico.sort_values(by='% Execução', ascending=False)"
   ]
  },
  {
   "cell_type": "code",
   "execution_count": 148,
   "id": "87460ae7-dffa-4420-acb2-6e0a737a0e7b",
   "metadata": {},
   "outputs": [
    {
     "data": {
      "application/vnd.plotly.v1+json": {
       "config": {
        "plotlyServerURL": "https://plot.ly"
       },
       "data": [
        {
         "hovertemplate": "color=green<br>Linha=%{x}<br>% Execução=%{y}<br>text_percent=%{text}<extra></extra>",
         "legendgroup": "green",
         "marker": {
          "color": "green",
          "pattern": {
           "shape": ""
          }
         },
         "name": "green",
         "orientation": "v",
         "showlegend": true,
         "text": [
          "87.2%",
          "86.1%",
          "85.7%",
          "82.7%",
          "80.0%"
         ],
         "textposition": "outside",
         "type": "bar",
         "x": [
          "460",
          "309",
          "108",
          "110",
          "222"
         ],
         "xaxis": "x",
         "y": {
          "bdata": "zczMzMzMVUBmZmZmZoZVQM3MzMzMbFVAzczMzMysVEAAAAAAAABUQA==",
          "dtype": "f8"
         },
         "yaxis": "y"
        },
        {
         "hovertemplate": "color=red<br>Linha=%{x}<br>% Execução=%{y}<br>text_percent=%{text}<extra></extra>",
         "legendgroup": "red",
         "marker": {
          "color": "red",
          "pattern": {
           "shape": ""
          }
         },
         "name": "red",
         "orientation": "v",
         "showlegend": true,
         "text": [
          "77.1%",
          "71.7%",
          "65.6%",
          "62.5%",
          "62.5%",
          "58.3%",
          "57.1%",
          "30.0%"
         ],
         "textposition": "outside",
         "type": "bar",
         "x": [
          "SV112",
          "463",
          "163",
          "315",
          "538",
          "112",
          "LECD110",
          "SP315"
         ],
         "xaxis": "x",
         "y": {
          "bdata": "ZmZmZmZGU0DNzMzMzOxRQGZmZmZmZlBAAAAAAABAT0AAAAAAAEBPQGZmZmZmJk1AzczMzMyMTEAAAAAAAAA+QA==",
          "dtype": "f8"
         },
         "yaxis": "y"
        }
       ],
       "layout": {
        "barmode": "relative",
        "legend": {
         "title": {
          "text": "color"
         },
         "tracegroupgap": 0
        },
        "margin": {
         "t": 60
        },
        "paper_bgcolor": "white",
        "plot_bgcolor": "white",
        "template": {
         "data": {
          "bar": [
           {
            "error_x": {
             "color": "#2a3f5f"
            },
            "error_y": {
             "color": "#2a3f5f"
            },
            "marker": {
             "line": {
              "color": "#E5ECF6",
              "width": 0.5
             },
             "pattern": {
              "fillmode": "overlay",
              "size": 10,
              "solidity": 0.2
             }
            },
            "type": "bar"
           }
          ],
          "barpolar": [
           {
            "marker": {
             "line": {
              "color": "#E5ECF6",
              "width": 0.5
             },
             "pattern": {
              "fillmode": "overlay",
              "size": 10,
              "solidity": 0.2
             }
            },
            "type": "barpolar"
           }
          ],
          "carpet": [
           {
            "aaxis": {
             "endlinecolor": "#2a3f5f",
             "gridcolor": "white",
             "linecolor": "white",
             "minorgridcolor": "white",
             "startlinecolor": "#2a3f5f"
            },
            "baxis": {
             "endlinecolor": "#2a3f5f",
             "gridcolor": "white",
             "linecolor": "white",
             "minorgridcolor": "white",
             "startlinecolor": "#2a3f5f"
            },
            "type": "carpet"
           }
          ],
          "choropleth": [
           {
            "colorbar": {
             "outlinewidth": 0,
             "ticks": ""
            },
            "type": "choropleth"
           }
          ],
          "contour": [
           {
            "colorbar": {
             "outlinewidth": 0,
             "ticks": ""
            },
            "colorscale": [
             [
              0,
              "#0d0887"
             ],
             [
              0.1111111111111111,
              "#46039f"
             ],
             [
              0.2222222222222222,
              "#7201a8"
             ],
             [
              0.3333333333333333,
              "#9c179e"
             ],
             [
              0.4444444444444444,
              "#bd3786"
             ],
             [
              0.5555555555555556,
              "#d8576b"
             ],
             [
              0.6666666666666666,
              "#ed7953"
             ],
             [
              0.7777777777777778,
              "#fb9f3a"
             ],
             [
              0.8888888888888888,
              "#fdca26"
             ],
             [
              1,
              "#f0f921"
             ]
            ],
            "type": "contour"
           }
          ],
          "contourcarpet": [
           {
            "colorbar": {
             "outlinewidth": 0,
             "ticks": ""
            },
            "type": "contourcarpet"
           }
          ],
          "heatmap": [
           {
            "colorbar": {
             "outlinewidth": 0,
             "ticks": ""
            },
            "colorscale": [
             [
              0,
              "#0d0887"
             ],
             [
              0.1111111111111111,
              "#46039f"
             ],
             [
              0.2222222222222222,
              "#7201a8"
             ],
             [
              0.3333333333333333,
              "#9c179e"
             ],
             [
              0.4444444444444444,
              "#bd3786"
             ],
             [
              0.5555555555555556,
              "#d8576b"
             ],
             [
              0.6666666666666666,
              "#ed7953"
             ],
             [
              0.7777777777777778,
              "#fb9f3a"
             ],
             [
              0.8888888888888888,
              "#fdca26"
             ],
             [
              1,
              "#f0f921"
             ]
            ],
            "type": "heatmap"
           }
          ],
          "histogram": [
           {
            "marker": {
             "pattern": {
              "fillmode": "overlay",
              "size": 10,
              "solidity": 0.2
             }
            },
            "type": "histogram"
           }
          ],
          "histogram2d": [
           {
            "colorbar": {
             "outlinewidth": 0,
             "ticks": ""
            },
            "colorscale": [
             [
              0,
              "#0d0887"
             ],
             [
              0.1111111111111111,
              "#46039f"
             ],
             [
              0.2222222222222222,
              "#7201a8"
             ],
             [
              0.3333333333333333,
              "#9c179e"
             ],
             [
              0.4444444444444444,
              "#bd3786"
             ],
             [
              0.5555555555555556,
              "#d8576b"
             ],
             [
              0.6666666666666666,
              "#ed7953"
             ],
             [
              0.7777777777777778,
              "#fb9f3a"
             ],
             [
              0.8888888888888888,
              "#fdca26"
             ],
             [
              1,
              "#f0f921"
             ]
            ],
            "type": "histogram2d"
           }
          ],
          "histogram2dcontour": [
           {
            "colorbar": {
             "outlinewidth": 0,
             "ticks": ""
            },
            "colorscale": [
             [
              0,
              "#0d0887"
             ],
             [
              0.1111111111111111,
              "#46039f"
             ],
             [
              0.2222222222222222,
              "#7201a8"
             ],
             [
              0.3333333333333333,
              "#9c179e"
             ],
             [
              0.4444444444444444,
              "#bd3786"
             ],
             [
              0.5555555555555556,
              "#d8576b"
             ],
             [
              0.6666666666666666,
              "#ed7953"
             ],
             [
              0.7777777777777778,
              "#fb9f3a"
             ],
             [
              0.8888888888888888,
              "#fdca26"
             ],
             [
              1,
              "#f0f921"
             ]
            ],
            "type": "histogram2dcontour"
           }
          ],
          "mesh3d": [
           {
            "colorbar": {
             "outlinewidth": 0,
             "ticks": ""
            },
            "type": "mesh3d"
           }
          ],
          "parcoords": [
           {
            "line": {
             "colorbar": {
              "outlinewidth": 0,
              "ticks": ""
             }
            },
            "type": "parcoords"
           }
          ],
          "pie": [
           {
            "automargin": true,
            "type": "pie"
           }
          ],
          "scatter": [
           {
            "fillpattern": {
             "fillmode": "overlay",
             "size": 10,
             "solidity": 0.2
            },
            "type": "scatter"
           }
          ],
          "scatter3d": [
           {
            "line": {
             "colorbar": {
              "outlinewidth": 0,
              "ticks": ""
             }
            },
            "marker": {
             "colorbar": {
              "outlinewidth": 0,
              "ticks": ""
             }
            },
            "type": "scatter3d"
           }
          ],
          "scattercarpet": [
           {
            "marker": {
             "colorbar": {
              "outlinewidth": 0,
              "ticks": ""
             }
            },
            "type": "scattercarpet"
           }
          ],
          "scattergeo": [
           {
            "marker": {
             "colorbar": {
              "outlinewidth": 0,
              "ticks": ""
             }
            },
            "type": "scattergeo"
           }
          ],
          "scattergl": [
           {
            "marker": {
             "colorbar": {
              "outlinewidth": 0,
              "ticks": ""
             }
            },
            "type": "scattergl"
           }
          ],
          "scattermap": [
           {
            "marker": {
             "colorbar": {
              "outlinewidth": 0,
              "ticks": ""
             }
            },
            "type": "scattermap"
           }
          ],
          "scattermapbox": [
           {
            "marker": {
             "colorbar": {
              "outlinewidth": 0,
              "ticks": ""
             }
            },
            "type": "scattermapbox"
           }
          ],
          "scatterpolar": [
           {
            "marker": {
             "colorbar": {
              "outlinewidth": 0,
              "ticks": ""
             }
            },
            "type": "scatterpolar"
           }
          ],
          "scatterpolargl": [
           {
            "marker": {
             "colorbar": {
              "outlinewidth": 0,
              "ticks": ""
             }
            },
            "type": "scatterpolargl"
           }
          ],
          "scatterternary": [
           {
            "marker": {
             "colorbar": {
              "outlinewidth": 0,
              "ticks": ""
             }
            },
            "type": "scatterternary"
           }
          ],
          "surface": [
           {
            "colorbar": {
             "outlinewidth": 0,
             "ticks": ""
            },
            "colorscale": [
             [
              0,
              "#0d0887"
             ],
             [
              0.1111111111111111,
              "#46039f"
             ],
             [
              0.2222222222222222,
              "#7201a8"
             ],
             [
              0.3333333333333333,
              "#9c179e"
             ],
             [
              0.4444444444444444,
              "#bd3786"
             ],
             [
              0.5555555555555556,
              "#d8576b"
             ],
             [
              0.6666666666666666,
              "#ed7953"
             ],
             [
              0.7777777777777778,
              "#fb9f3a"
             ],
             [
              0.8888888888888888,
              "#fdca26"
             ],
             [
              1,
              "#f0f921"
             ]
            ],
            "type": "surface"
           }
          ],
          "table": [
           {
            "cells": {
             "fill": {
              "color": "#EBF0F8"
             },
             "line": {
              "color": "white"
             }
            },
            "header": {
             "fill": {
              "color": "#C8D4E3"
             },
             "line": {
              "color": "white"
             }
            },
            "type": "table"
           }
          ]
         },
         "layout": {
          "annotationdefaults": {
           "arrowcolor": "#2a3f5f",
           "arrowhead": 0,
           "arrowwidth": 1
          },
          "autotypenumbers": "strict",
          "coloraxis": {
           "colorbar": {
            "outlinewidth": 0,
            "ticks": ""
           }
          },
          "colorscale": {
           "diverging": [
            [
             0,
             "#8e0152"
            ],
            [
             0.1,
             "#c51b7d"
            ],
            [
             0.2,
             "#de77ae"
            ],
            [
             0.3,
             "#f1b6da"
            ],
            [
             0.4,
             "#fde0ef"
            ],
            [
             0.5,
             "#f7f7f7"
            ],
            [
             0.6,
             "#e6f5d0"
            ],
            [
             0.7,
             "#b8e186"
            ],
            [
             0.8,
             "#7fbc41"
            ],
            [
             0.9,
             "#4d9221"
            ],
            [
             1,
             "#276419"
            ]
           ],
           "sequential": [
            [
             0,
             "#0d0887"
            ],
            [
             0.1111111111111111,
             "#46039f"
            ],
            [
             0.2222222222222222,
             "#7201a8"
            ],
            [
             0.3333333333333333,
             "#9c179e"
            ],
            [
             0.4444444444444444,
             "#bd3786"
            ],
            [
             0.5555555555555556,
             "#d8576b"
            ],
            [
             0.6666666666666666,
             "#ed7953"
            ],
            [
             0.7777777777777778,
             "#fb9f3a"
            ],
            [
             0.8888888888888888,
             "#fdca26"
            ],
            [
             1,
             "#f0f921"
            ]
           ],
           "sequentialminus": [
            [
             0,
             "#0d0887"
            ],
            [
             0.1111111111111111,
             "#46039f"
            ],
            [
             0.2222222222222222,
             "#7201a8"
            ],
            [
             0.3333333333333333,
             "#9c179e"
            ],
            [
             0.4444444444444444,
             "#bd3786"
            ],
            [
             0.5555555555555556,
             "#d8576b"
            ],
            [
             0.6666666666666666,
             "#ed7953"
            ],
            [
             0.7777777777777778,
             "#fb9f3a"
            ],
            [
             0.8888888888888888,
             "#fdca26"
            ],
            [
             1,
             "#f0f921"
            ]
           ]
          },
          "colorway": [
           "#636efa",
           "#EF553B",
           "#00cc96",
           "#ab63fa",
           "#FFA15A",
           "#19d3f3",
           "#FF6692",
           "#B6E880",
           "#FF97FF",
           "#FECB52"
          ],
          "font": {
           "color": "#2a3f5f"
          },
          "geo": {
           "bgcolor": "white",
           "lakecolor": "white",
           "landcolor": "#E5ECF6",
           "showlakes": true,
           "showland": true,
           "subunitcolor": "white"
          },
          "hoverlabel": {
           "align": "left"
          },
          "hovermode": "closest",
          "mapbox": {
           "style": "light"
          },
          "paper_bgcolor": "white",
          "plot_bgcolor": "#E5ECF6",
          "polar": {
           "angularaxis": {
            "gridcolor": "white",
            "linecolor": "white",
            "ticks": ""
           },
           "bgcolor": "#E5ECF6",
           "radialaxis": {
            "gridcolor": "white",
            "linecolor": "white",
            "ticks": ""
           }
          },
          "scene": {
           "xaxis": {
            "backgroundcolor": "#E5ECF6",
            "gridcolor": "white",
            "gridwidth": 2,
            "linecolor": "white",
            "showbackground": true,
            "ticks": "",
            "zerolinecolor": "white"
           },
           "yaxis": {
            "backgroundcolor": "#E5ECF6",
            "gridcolor": "white",
            "gridwidth": 2,
            "linecolor": "white",
            "showbackground": true,
            "ticks": "",
            "zerolinecolor": "white"
           },
           "zaxis": {
            "backgroundcolor": "#E5ECF6",
            "gridcolor": "white",
            "gridwidth": 2,
            "linecolor": "white",
            "showbackground": true,
            "ticks": "",
            "zerolinecolor": "white"
           }
          },
          "shapedefaults": {
           "line": {
            "color": "#2a3f5f"
           }
          },
          "ternary": {
           "aaxis": {
            "gridcolor": "white",
            "linecolor": "white",
            "ticks": ""
           },
           "baxis": {
            "gridcolor": "white",
            "linecolor": "white",
            "ticks": ""
           },
           "bgcolor": "#E5ECF6",
           "caxis": {
            "gridcolor": "white",
            "linecolor": "white",
            "ticks": ""
           }
          },
          "title": {
           "x": 0.05
          },
          "xaxis": {
           "automargin": true,
           "gridcolor": "white",
           "linecolor": "white",
           "ticks": "",
           "title": {
            "standoff": 15
           },
           "zerolinecolor": "white",
           "zerolinewidth": 2
          },
          "yaxis": {
           "automargin": true,
           "gridcolor": "white",
           "linecolor": "white",
           "ticks": "",
           "title": {
            "standoff": 15
           },
           "zerolinecolor": "white",
           "zerolinewidth": 2
          }
         }
        },
        "xaxis": {
         "anchor": "y",
         "domain": [
          0,
          1
         ],
         "showgrid": false,
         "title": {
          "text": "Linha"
         }
        },
        "yaxis": {
         "anchor": "x",
         "domain": [
          0,
          1
         ],
         "dtick": 10,
         "gridcolor": "lightgrey",
         "range": [
          0,
          110
         ],
         "title": {
          "text": "% Execução"
         }
        }
       }
      },
      "image/png": "[encoded data removed]"
     },
     "metadata": {},
     "output_type": "display_data"
    }
   ],
   "source": [
    "# Criar coluna de texto formatada\n",
    "faixa_grafico['text_percent'] = faixa_grafico['% Execução'].round(1).astype(str) + '%'\n",
    "\n",
    "# Criar coluna de cor\n",
    "faixa_grafico['color'] = faixa_grafico['% Execução'].apply(lambda x: 'green' if x >= 80 else 'red')\n",
    "\n",
    "# Criar o gráfico\n",
    "fig = px.bar(\n",
    "    faixa_grafico,\n",
    "    x='Linha',\n",
    "    y='% Execução',\n",
    "    text='text_percent',\n",
    "    color='color',\n",
    "    color_discrete_map={\n",
    "        'green': 'green',\n",
    "        'red': 'red'\n",
    "    }\n",
    ")\n",
    "\n",
    "# Personalizar o eixo Y\n",
    "fig.update_yaxes(\n",
    "    dtick=10,\n",
    "    range=[0, 110],\n",
    "    title_text='% Execução'\n",
    ")\n",
    "\n",
    "# Melhorar aparência do texto nas barras\n",
    "fig.update_traces(\n",
    "    textposition='outside'\n",
    ")\n",
    "\n",
    "# Remover o fundo do gráfico\n",
    "fig.update_layout(\n",
    "    plot_bgcolor='white',      # Fundo da área do gráfico\n",
    "    paper_bgcolor='white',     # Fundo total da imagem\n",
    "    xaxis=dict(showgrid=False),  # Tirar linhas de grade no eixo X\n",
    "    yaxis=dict(gridcolor='lightgrey')  # (Opcional) Manter grade Y em cinza claro\n",
    ")\n",
    "\n",
    "fig.show()\n",
    "\n"
   ]
  },
  {
   "cell_type": "code",
   "execution_count": null,
   "id": "fdff6046-2833-4238-8fa5-411b15513689",
   "metadata": {},
   "outputs": [],
   "source": []
  },
  {
   "cell_type": "code",
   "execution_count": null,
   "id": "2d3d4f49-d0a8-4b9f-b150-a37017105dc9",
   "metadata": {},
   "outputs": [],
   "source": []
  },
  {
   "cell_type": "code",
   "execution_count": null,
   "id": "dbfde76e-0765-4ddd-8d04-113daefb573b",
   "metadata": {},
   "outputs": [],
   "source": []
  },
  {
   "cell_type": "code",
   "execution_count": null,
   "id": "0e04bb96-a914-427f-a3e1-1b76e5cdff65",
   "metadata": {},
   "outputs": [],
   "source": []
  }
 ],
 "metadata": {
  "kernelspec": {
   "display_name": "Python 3 (ipykernel)",
   "language": "python",
   "name": "python3"
  },
  "language_info": {
   "codemirror_mode": {
    "name": "ipython",
    "version": 3
   },
   "file_extension": ".py",
   "mimetype": "text/x-python",
   "name": "python",
   "nbconvert_exporter": "python",
   "pygments_lexer": "ipython3",
   "version": "3.13.2"
  }
 },
 "nbformat": 4,
 "nbformat_minor": 5
}
